{
 "cells": [
  {
   "cell_type": "markdown",
   "metadata": {},
   "source": [
    "# RescueTime: \n",
    "## Data Import, Data Visualization, Data Analysis, Year-in-Review"
   ]
  },
  {
   "cell_type": "markdown",
   "metadata": {},
   "source": [
    "NOTE: Run [RescueTime Downloader](rescuetime_downloader.ipynb) to first extract your RescueTime data and prepare your info for Data Analysis"
   ]
  },
  {
   "cell_type": "markdown",
   "metadata": {},
   "source": [
    "-----------"
   ]
  },
  {
   "cell_type": "markdown",
   "metadata": {},
   "source": [
    "### Libraries and Dependencies"
   ]
  },
  {
   "cell_type": "code",
   "execution_count": 1,
   "metadata": {},
   "outputs": [],
   "source": [
    "from datetime import date, datetime as dt, timedelta as td\n",
    "import numpy as np\n",
    "import pandas as pd\n",
    "\n",
    "import matplotlib as mpl\n",
    "import matplotlib.pyplot as plt\n",
    "import matplotlib.dates as mdates\n",
    "%matplotlib inline"
   ]
  },
  {
   "cell_type": "markdown",
   "metadata": {},
   "source": [
    "### Import Data"
   ]
  },
  {
   "cell_type": "code",
   "execution_count": 2,
   "metadata": {},
   "outputs": [],
   "source": [
    "activities = pd.read_csv(\"data/rescuetime-full-data-export.csv\")\n",
    "# if exists remove old index columns\n",
    "activities.drop([\"Unnamed: 0\"], axis=1, inplace=True)\n",
    "# relabel date to timestamp\n",
    "activities.columns = ['Timestamp', 'Seconds', 'NumberPeople', 'Actitivity', 'Document', 'Category', 'Productivity']"
   ]
  },
  {
   "cell_type": "code",
   "execution_count": 3,
   "metadata": {},
   "outputs": [
    {
     "data": {
      "text/html": [
       "<div>\n",
       "<style scoped>\n",
       "    .dataframe tbody tr th:only-of-type {\n",
       "        vertical-align: middle;\n",
       "    }\n",
       "\n",
       "    .dataframe tbody tr th {\n",
       "        vertical-align: top;\n",
       "    }\n",
       "\n",
       "    .dataframe thead th {\n",
       "        text-align: right;\n",
       "    }\n",
       "</style>\n",
       "<table border=\"1\" class=\"dataframe\">\n",
       "  <thead>\n",
       "    <tr style=\"text-align: right;\">\n",
       "      <th></th>\n",
       "      <th>Timestamp</th>\n",
       "      <th>Seconds</th>\n",
       "      <th>NumberPeople</th>\n",
       "      <th>Actitivity</th>\n",
       "      <th>Document</th>\n",
       "      <th>Category</th>\n",
       "      <th>Productivity</th>\n",
       "    </tr>\n",
       "  </thead>\n",
       "  <tbody>\n",
       "    <tr>\n",
       "      <th>462</th>\n",
       "      <td>2019-11-06T14:00:00</td>\n",
       "      <td>1</td>\n",
       "      <td>1</td>\n",
       "      <td>prifinadev.slack.com</td>\n",
       "      <td>No Details</td>\n",
       "      <td>Instant Message</td>\n",
       "      <td>-1</td>\n",
       "    </tr>\n",
       "    <tr>\n",
       "      <th>463</th>\n",
       "      <td>2019-11-06T14:00:00</td>\n",
       "      <td>1</td>\n",
       "      <td>1</td>\n",
       "      <td>localhost:8888</td>\n",
       "      <td>Jupyter Notebook</td>\n",
       "      <td>General Software Development</td>\n",
       "      <td>2</td>\n",
       "    </tr>\n",
       "    <tr>\n",
       "      <th>464</th>\n",
       "      <td>2019-11-06T14:00:00</td>\n",
       "      <td>1</td>\n",
       "      <td>1</td>\n",
       "      <td>MS Excel</td>\n",
       "      <td>1. Prifina - Saving...</td>\n",
       "      <td>General Business</td>\n",
       "      <td>2</td>\n",
       "    </tr>\n",
       "    <tr>\n",
       "      <th>465</th>\n",
       "      <td>2019-11-06T14:00:00</td>\n",
       "      <td>1</td>\n",
       "      <td>1</td>\n",
       "      <td>Windows Explorer</td>\n",
       "      <td>1. Long term planning</td>\n",
       "      <td>General Utilities</td>\n",
       "      <td>1</td>\n",
       "    </tr>\n",
       "    <tr>\n",
       "      <th>466</th>\n",
       "      <td>2019-11-06T14:00:00</td>\n",
       "      <td>1</td>\n",
       "      <td>1</td>\n",
       "      <td>rescuetime.com</td>\n",
       "      <td>Google</td>\n",
       "      <td>Intelligence</td>\n",
       "      <td>2</td>\n",
       "    </tr>\n",
       "  </tbody>\n",
       "</table>\n",
       "</div>"
      ],
      "text/plain": [
       "               Timestamp  Seconds  NumberPeople            Actitivity  \\\n",
       "462  2019-11-06T14:00:00        1             1  prifinadev.slack.com   \n",
       "463  2019-11-06T14:00:00        1             1        localhost:8888   \n",
       "464  2019-11-06T14:00:00        1             1              MS Excel   \n",
       "465  2019-11-06T14:00:00        1             1      Windows Explorer   \n",
       "466  2019-11-06T14:00:00        1             1        rescuetime.com   \n",
       "\n",
       "                   Document                      Category  Productivity  \n",
       "462              No Details               Instant Message            -1  \n",
       "463        Jupyter Notebook  General Software Development             2  \n",
       "464  1. Prifina - Saving...              General Business             2  \n",
       "465   1. Long term planning             General Utilities             1  \n",
       "466                  Google                  Intelligence             2  "
      ]
     },
     "execution_count": 3,
     "metadata": {},
     "output_type": "execute_result"
    }
   ],
   "source": [
    "activities.tail()"
   ]
  },
  {
   "cell_type": "code",
   "execution_count": null,
   "metadata": {},
   "outputs": [],
   "source": []
  },
  {
   "cell_type": "markdown",
   "metadata": {},
   "source": [
    "------"
   ]
  },
  {
   "cell_type": "markdown",
   "metadata": {},
   "source": [
    "### Data Processing"
   ]
  },
  {
   "cell_type": "code",
   "execution_count": 4,
   "metadata": {},
   "outputs": [
    {
     "data": {
      "text/plain": [
       "array(['very productive', 'neutral', 'very distracting', 'distracting',\n",
       "       'productive'], dtype=object)"
      ]
     },
     "execution_count": 4,
     "metadata": {},
     "output_type": "execute_result"
    }
   ],
   "source": [
    "# new column for productivitity level \n",
    "# as very productive, productive, neutral, distracted, very distracted\n",
    "activities['Productive'] = activities['Productivity']\n",
    "\n",
    "activities['Productive'] = activities['Productive'].map({-2: 'very distracting', \n",
    "                                                        -1: 'distracting',\n",
    "                                                       0: 'neutral',\n",
    "                                                       1: 'productive',\n",
    "                                                       2: 'very productive'})\n",
    "activities.Productive.unique()"
   ]
  },
  {
   "cell_type": "code",
   "execution_count": 5,
   "metadata": {},
   "outputs": [],
   "source": [
    "# convert to datetime\n",
    "activities['Timestamp'] = pd.to_datetime(activities['Timestamp'])\n",
    "\n",
    "# reorder and reindex based on date\n",
    "activities = activities.sort_values(by='Timestamp').reset_index(drop=True)"
   ]
  },
  {
   "cell_type": "code",
   "execution_count": 6,
   "metadata": {},
   "outputs": [],
   "source": [
    "# date additions of Date timestamp\n",
    "activities['Date'] = activities['Timestamp'].apply(lambda x: x.strftime('%Y-%m-%d')) \n",
    "activities['Year'] = activities['Timestamp'].dt.year\n",
    "activities['Month'] = activities['Timestamp'].dt.month\n",
    "activities['Mnth_yr'] = activities['Timestamp'].apply(lambda x: x.strftime('%Y-%m')) \n",
    "activities['Dow'] = activities['Timestamp'].dt.weekday\n",
    "activities['Hour'] = activities['Timestamp'].dt.hour"
   ]
  },
  {
   "cell_type": "markdown",
   "metadata": {},
   "source": [
    "-----"
   ]
  },
  {
   "cell_type": "markdown",
   "metadata": {},
   "source": [
    "## Total Computer Time per Day"
   ]
  },
  {
   "cell_type": "code",
   "execution_count": 7,
   "metadata": {},
   "outputs": [],
   "source": [
    "total_computer_time_by_date = activities.groupby(['Date'])['Seconds'].sum().reset_index(name='Seconds')"
   ]
  },
  {
   "cell_type": "code",
   "execution_count": 8,
   "metadata": {},
   "outputs": [],
   "source": [
    "total_computer_time_by_date['Minutes'] = round(total_computer_time_by_date['Seconds'] / 60, 2)\n",
    "total_computer_time_by_date['Hours'] = round(total_computer_time_by_date['Seconds'] / 60 / 60, 2)"
   ]
  },
  {
   "cell_type": "code",
   "execution_count": 9,
   "metadata": {},
   "outputs": [
    {
     "data": {
      "text/html": [
       "<div>\n",
       "<style scoped>\n",
       "    .dataframe tbody tr th:only-of-type {\n",
       "        vertical-align: middle;\n",
       "    }\n",
       "\n",
       "    .dataframe tbody tr th {\n",
       "        vertical-align: top;\n",
       "    }\n",
       "\n",
       "    .dataframe thead th {\n",
       "        text-align: right;\n",
       "    }\n",
       "</style>\n",
       "<table border=\"1\" class=\"dataframe\">\n",
       "  <thead>\n",
       "    <tr style=\"text-align: right;\">\n",
       "      <th></th>\n",
       "      <th>Date</th>\n",
       "      <th>Seconds</th>\n",
       "      <th>Minutes</th>\n",
       "      <th>Hours</th>\n",
       "    </tr>\n",
       "  </thead>\n",
       "  <tbody>\n",
       "    <tr>\n",
       "      <th>0</th>\n",
       "      <td>2019-11-05</td>\n",
       "      <td>10175</td>\n",
       "      <td>169.58</td>\n",
       "      <td>2.83</td>\n",
       "    </tr>\n",
       "    <tr>\n",
       "      <th>1</th>\n",
       "      <td>2019-11-06</td>\n",
       "      <td>24572</td>\n",
       "      <td>409.53</td>\n",
       "      <td>6.83</td>\n",
       "    </tr>\n",
       "  </tbody>\n",
       "</table>\n",
       "</div>"
      ],
      "text/plain": [
       "         Date  Seconds  Minutes  Hours\n",
       "0  2019-11-05    10175   169.58   2.83\n",
       "1  2019-11-06    24572   409.53   6.83"
      ]
     },
     "execution_count": 9,
     "metadata": {},
     "output_type": "execute_result"
    }
   ],
   "source": [
    "total_computer_time_by_date.tail()"
   ]
  },
  {
   "cell_type": "code",
   "execution_count": 10,
   "metadata": {},
   "outputs": [],
   "source": [
    "# export\n",
    "total_computer_time_by_date.to_csv(\"data/dates_computer_time.csv\", index=False)"
   ]
  },
  {
   "cell_type": "code",
   "execution_count": 11,
   "metadata": {},
   "outputs": [],
   "source": [
    "total_computer_time_by_date = total_computer_time_by_date.drop(['Seconds', 'Minutes'], axis=1)\n",
    "total_computer_time_by_date = total_computer_time_by_date.set_index(['Date'])"
   ]
  },
  {
   "cell_type": "code",
   "execution_count": 12,
   "metadata": {},
   "outputs": [
    {
     "data": {
      "image/png": "[encoded data removed]",
      "text/plain": [
       "<Figure size 864x432 with 1 Axes>"
      ]
     },
     "metadata": {},
     "output_type": "display_data"
    }
   ],
   "source": [
    "chart_title = 'Daily Computer Time in Hours for Last 30 Days'\n",
    "plt.style.use('seaborn-darkgrid')\n",
    "ax = total_computer_time_by_date.tail(30).plot.bar(stacked=True, rot=90, figsize=(12,6), colormap='tab20c', legend=False)\n",
    "ax.set_xlabel('')\n",
    "ax.set_ylabel('Hours')\n",
    "ax.set_title(chart_title)\n",
    "plt.show()"
   ]
  },
  {
   "cell_type": "markdown",
   "metadata": {},
   "source": [
    "----"
   ]
  },
  {
   "cell_type": "markdown",
   "metadata": {},
   "source": [
    "## Daily Productivity"
   ]
  },
  {
   "cell_type": "code",
   "execution_count": 13,
   "metadata": {},
   "outputs": [],
   "source": [
    "total_by_date_productivity = activities.groupby(['Date', 'Productive'])['Seconds'].sum().reset_index(name='Seconds')\n",
    "total_by_date_productivity['Minutes'] = round((total_by_date_productivity['Seconds'] / 60), 2)"
   ]
  },
  {
   "cell_type": "code",
   "execution_count": 14,
   "metadata": {},
   "outputs": [],
   "source": [
    "# total_by_date_productivity\n",
    "table = total_by_date_productivity.pivot_table(index='Date', columns='Productive', values='Seconds', aggfunc=np.sum)\n",
    "table.to_csv(\"data/days_productive_time_full.csv\")"
   ]
  },
  {
   "cell_type": "code",
   "execution_count": 15,
   "metadata": {},
   "outputs": [],
   "source": [
    "# process and simplify productivity dimensions\n",
    "days_productive_time = table.copy()\n",
    "days_productive_time['productive_simple'] = days_productive_time['productive'] + days_productive_time['very productive']\n",
    "days_productive_time.drop(['productive', 'very productive'], axis=1, inplace=True)\n",
    "days_productive_time['distracting_simple'] = days_productive_time['distracting'] + days_productive_time['very distracting']\n",
    "days_productive_time.drop(['distracting', 'very distracting'], axis=1, inplace=True)\n",
    "days_productive_time.columns = ['Neutral', 'Productive', 'Distracting']"
   ]
  },
  {
   "cell_type": "code",
   "execution_count": 16,
   "metadata": {},
   "outputs": [],
   "source": [
    "days_productive_time.to_csv(\"data/days_productive_time.csv\")"
   ]
  },
  {
   "cell_type": "code",
   "execution_count": 17,
   "metadata": {},
   "outputs": [
    {
     "data": {
      "text/html": [
       "<div>\n",
       "<style scoped>\n",
       "    .dataframe tbody tr th:only-of-type {\n",
       "        vertical-align: middle;\n",
       "    }\n",
       "\n",
       "    .dataframe tbody tr th {\n",
       "        vertical-align: top;\n",
       "    }\n",
       "\n",
       "    .dataframe thead th {\n",
       "        text-align: right;\n",
       "    }\n",
       "</style>\n",
       "<table border=\"1\" class=\"dataframe\">\n",
       "  <thead>\n",
       "    <tr style=\"text-align: right;\">\n",
       "      <th></th>\n",
       "      <th>Neutral</th>\n",
       "      <th>Productive</th>\n",
       "      <th>Distracting</th>\n",
       "    </tr>\n",
       "    <tr>\n",
       "      <th>Date</th>\n",
       "      <th></th>\n",
       "      <th></th>\n",
       "      <th></th>\n",
       "    </tr>\n",
       "  </thead>\n",
       "  <tbody>\n",
       "    <tr>\n",
       "      <th>2019-11-05</th>\n",
       "      <td>5470</td>\n",
       "      <td>3014</td>\n",
       "      <td>1691</td>\n",
       "    </tr>\n",
       "    <tr>\n",
       "      <th>2019-11-06</th>\n",
       "      <td>3491</td>\n",
       "      <td>19476</td>\n",
       "      <td>1605</td>\n",
       "    </tr>\n",
       "  </tbody>\n",
       "</table>\n",
       "</div>"
      ],
      "text/plain": [
       "            Neutral  Productive  Distracting\n",
       "Date                                        \n",
       "2019-11-05     5470        3014         1691\n",
       "2019-11-06     3491       19476         1605"
      ]
     },
     "execution_count": 17,
     "metadata": {},
     "output_type": "execute_result"
    }
   ],
   "source": [
    "days_productive_time.tail(5)"
   ]
  },
  {
   "cell_type": "code",
   "execution_count": 18,
   "metadata": {},
   "outputs": [
    {
     "data": {
      "image/png": "[encoded data removed]",
      "text/plain": [
       "<Figure size 864x432 with 1 Axes>"
      ]
     },
     "metadata": {},
     "output_type": "display_data"
    }
   ],
   "source": [
    "chart_title = 'Daily Computer Time Broken Down by Productivity for Last 30 Days'\n",
    "plt.style.use('seaborn-darkgrid')\n",
    "ax = days_productive_time.tail(30).plot.bar(stacked=True, rot=90, figsize=(12,6))\n",
    "ax.set_xlabel('')\n",
    "ax.set_ylabel('Seconds')\n",
    "ax.set_title(chart_title)\n",
    "plt.show()"
   ]
  },
  {
   "cell_type": "markdown",
   "metadata": {},
   "source": [
    "---"
   ]
  },
  {
   "cell_type": "markdown",
   "metadata": {},
   "source": [
    "# Productive Hours"
   ]
  },
  {
   "cell_type": "code",
   "execution_count": 19,
   "metadata": {},
   "outputs": [
    {
     "data": {
      "text/html": [
       "<div>\n",
       "<style scoped>\n",
       "    .dataframe tbody tr th:only-of-type {\n",
       "        vertical-align: middle;\n",
       "    }\n",
       "\n",
       "    .dataframe tbody tr th {\n",
       "        vertical-align: top;\n",
       "    }\n",
       "\n",
       "    .dataframe thead th {\n",
       "        text-align: right;\n",
       "    }\n",
       "</style>\n",
       "<table border=\"1\" class=\"dataframe\">\n",
       "  <thead>\n",
       "    <tr style=\"text-align: right;\">\n",
       "      <th></th>\n",
       "      <th>Date</th>\n",
       "      <th>Hour</th>\n",
       "      <th>Productive</th>\n",
       "      <th>Seconds</th>\n",
       "      <th>Minutes</th>\n",
       "    </tr>\n",
       "  </thead>\n",
       "  <tbody>\n",
       "    <tr>\n",
       "      <th>35</th>\n",
       "      <td>2019-11-06</td>\n",
       "      <td>13</td>\n",
       "      <td>very productive</td>\n",
       "      <td>4704</td>\n",
       "      <td>78.40</td>\n",
       "    </tr>\n",
       "    <tr>\n",
       "      <th>36</th>\n",
       "      <td>2019-11-06</td>\n",
       "      <td>14</td>\n",
       "      <td>distracting</td>\n",
       "      <td>329</td>\n",
       "      <td>5.48</td>\n",
       "    </tr>\n",
       "    <tr>\n",
       "      <th>37</th>\n",
       "      <td>2019-11-06</td>\n",
       "      <td>14</td>\n",
       "      <td>neutral</td>\n",
       "      <td>394</td>\n",
       "      <td>6.57</td>\n",
       "    </tr>\n",
       "    <tr>\n",
       "      <th>38</th>\n",
       "      <td>2019-11-06</td>\n",
       "      <td>14</td>\n",
       "      <td>productive</td>\n",
       "      <td>189</td>\n",
       "      <td>3.15</td>\n",
       "    </tr>\n",
       "    <tr>\n",
       "      <th>39</th>\n",
       "      <td>2019-11-06</td>\n",
       "      <td>14</td>\n",
       "      <td>very productive</td>\n",
       "      <td>4419</td>\n",
       "      <td>73.65</td>\n",
       "    </tr>\n",
       "  </tbody>\n",
       "</table>\n",
       "</div>"
      ],
      "text/plain": [
       "          Date  Hour       Productive  Seconds  Minutes\n",
       "35  2019-11-06    13  very productive     4704    78.40\n",
       "36  2019-11-06    14      distracting      329     5.48\n",
       "37  2019-11-06    14          neutral      394     6.57\n",
       "38  2019-11-06    14       productive      189     3.15\n",
       "39  2019-11-06    14  very productive     4419    73.65"
      ]
     },
     "execution_count": 19,
     "metadata": {},
     "output_type": "execute_result"
    }
   ],
   "source": [
    "hourly = activities.groupby(['Date', 'Hour', 'Productive'])['Seconds'].sum().reset_index(name='Seconds')\n",
    "hourly['Minutes'] = round((hourly['Seconds'] / 60), 2)\n",
    "hourly.tail()"
   ]
  },
  {
   "cell_type": "code",
   "execution_count": 20,
   "metadata": {},
   "outputs": [],
   "source": [
    "# export\n",
    "hourly.to_csv(\"data/dates_hourly_productive_time.csv\", index=False)"
   ]
  },
  {
   "cell_type": "code",
   "execution_count": 21,
   "metadata": {},
   "outputs": [],
   "source": [
    "hourly_breakdown = hourly.pivot_table(index=['Date', 'Hour'], columns='Productive', values='Minutes', aggfunc=np.sum)"
   ]
  },
  {
   "cell_type": "code",
   "execution_count": 25,
   "metadata": {},
   "outputs": [
    {
     "data": {
      "text/html": [
       "<div>\n",
       "<style scoped>\n",
       "    .dataframe tbody tr th:only-of-type {\n",
       "        vertical-align: middle;\n",
       "    }\n",
       "\n",
       "    .dataframe tbody tr th {\n",
       "        vertical-align: top;\n",
       "    }\n",
       "\n",
       "    .dataframe thead th {\n",
       "        text-align: right;\n",
       "    }\n",
       "</style>\n",
       "<table border=\"1\" class=\"dataframe\">\n",
       "  <thead>\n",
       "    <tr style=\"text-align: right;\">\n",
       "      <th></th>\n",
       "      <th>Productive</th>\n",
       "      <th>distracting</th>\n",
       "      <th>neutral</th>\n",
       "      <th>productive</th>\n",
       "      <th>very distracting</th>\n",
       "      <th>very productive</th>\n",
       "    </tr>\n",
       "    <tr>\n",
       "      <th>Date</th>\n",
       "      <th>Hour</th>\n",
       "      <th></th>\n",
       "      <th></th>\n",
       "      <th></th>\n",
       "      <th></th>\n",
       "      <th></th>\n",
       "    </tr>\n",
       "  </thead>\n",
       "  <tbody>\n",
       "    <tr>\n",
       "      <th rowspan=\"4\" valign=\"top\">2019-11-05</th>\n",
       "      <th>14</th>\n",
       "      <td>NaN</td>\n",
       "      <td>NaN</td>\n",
       "      <td>NaN</td>\n",
       "      <td>NaN</td>\n",
       "      <td>0.63</td>\n",
       "    </tr>\n",
       "    <tr>\n",
       "      <th>15</th>\n",
       "      <td>10.87</td>\n",
       "      <td>37.15</td>\n",
       "      <td>0.93</td>\n",
       "      <td>11.62</td>\n",
       "      <td>40.57</td>\n",
       "    </tr>\n",
       "    <tr>\n",
       "      <th>16</th>\n",
       "      <td>3.37</td>\n",
       "      <td>5.75</td>\n",
       "      <td>0.52</td>\n",
       "      <td>0.17</td>\n",
       "      <td>2.23</td>\n",
       "    </tr>\n",
       "    <tr>\n",
       "      <th>18</th>\n",
       "      <td>2.17</td>\n",
       "      <td>48.27</td>\n",
       "      <td>0.23</td>\n",
       "      <td>NaN</td>\n",
       "      <td>5.12</td>\n",
       "    </tr>\n",
       "    <tr>\n",
       "      <th rowspan=\"6\" valign=\"top\">2019-11-06</th>\n",
       "      <th>7</th>\n",
       "      <td>1.52</td>\n",
       "      <td>6.57</td>\n",
       "      <td>2.42</td>\n",
       "      <td>1.45</td>\n",
       "      <td>47.02</td>\n",
       "    </tr>\n",
       "    <tr>\n",
       "      <th>8</th>\n",
       "      <td>7.82</td>\n",
       "      <td>24.95</td>\n",
       "      <td>8.32</td>\n",
       "      <td>NaN</td>\n",
       "      <td>18.63</td>\n",
       "    </tr>\n",
       "    <tr>\n",
       "      <th>9</th>\n",
       "      <td>3.53</td>\n",
       "      <td>3.53</td>\n",
       "      <td>0.70</td>\n",
       "      <td>NaN</td>\n",
       "      <td>6.68</td>\n",
       "    </tr>\n",
       "    <tr>\n",
       "      <th>12</th>\n",
       "      <td>5.23</td>\n",
       "      <td>10.10</td>\n",
       "      <td>15.30</td>\n",
       "      <td>NaN</td>\n",
       "      <td>68.02</td>\n",
       "    </tr>\n",
       "    <tr>\n",
       "      <th>13</th>\n",
       "      <td>NaN</td>\n",
       "      <td>6.47</td>\n",
       "      <td>2.32</td>\n",
       "      <td>1.72</td>\n",
       "      <td>78.40</td>\n",
       "    </tr>\n",
       "    <tr>\n",
       "      <th>14</th>\n",
       "      <td>5.48</td>\n",
       "      <td>6.57</td>\n",
       "      <td>3.15</td>\n",
       "      <td>NaN</td>\n",
       "      <td>73.65</td>\n",
       "    </tr>\n",
       "  </tbody>\n",
       "</table>\n",
       "</div>"
      ],
      "text/plain": [
       "Productive       distracting  neutral  productive  very distracting  \\\n",
       "Date       Hour                                                       \n",
       "2019-11-05 14            NaN      NaN         NaN               NaN   \n",
       "           15          10.87    37.15        0.93             11.62   \n",
       "           16           3.37     5.75        0.52              0.17   \n",
       "           18           2.17    48.27        0.23               NaN   \n",
       "2019-11-06 7            1.52     6.57        2.42              1.45   \n",
       "           8            7.82    24.95        8.32               NaN   \n",
       "           9            3.53     3.53        0.70               NaN   \n",
       "           12           5.23    10.10       15.30               NaN   \n",
       "           13            NaN     6.47        2.32              1.72   \n",
       "           14           5.48     6.57        3.15               NaN   \n",
       "\n",
       "Productive       very productive  \n",
       "Date       Hour                   \n",
       "2019-11-05 14               0.63  \n",
       "           15              40.57  \n",
       "           16               2.23  \n",
       "           18               5.12  \n",
       "2019-11-06 7               47.02  \n",
       "           8               18.63  \n",
       "           9                6.68  \n",
       "           12              68.02  \n",
       "           13              78.40  \n",
       "           14              73.65  "
      ]
     },
     "execution_count": 25,
     "metadata": {},
     "output_type": "execute_result"
    }
   ],
   "source": [
    "hourly_breakdown"
   ]
  },
  {
   "cell_type": "code",
   "execution_count": 26,
   "metadata": {},
   "outputs": [
    {
     "data": {
      "image/png": "[encoded data removed]",
      "text/plain": [
       "<Figure size 1224x288 with 1 Axes>"
      ]
     },
     "metadata": {},
     "output_type": "display_data"
    }
   ],
   "source": [
    "chart_title = 'Hourly Computer Time Broken Down by Productivity for Last 48 Recorded Hours'\n",
    "plt.style.use('seaborn-darkgrid')\n",
    "ax = hourly_breakdown.tail(48).plot.bar(stacked=True, rot=90, figsize=(17,4))\n",
    "ax.set_xlabel('')\n",
    "ax.set_ylabel('Minutes')\n",
    "ax.set_title(chart_title)\n",
    "plt.show()"
   ]
  },
  {
   "cell_type": "markdown",
   "metadata": {},
   "source": [
    "---------------------"
   ]
  },
  {
   "cell_type": "markdown",
   "metadata": {},
   "source": [
    "## Category Breakdown of Time Usage"
   ]
  },
  {
   "cell_type": "code",
   "execution_count": 27,
   "metadata": {},
   "outputs": [],
   "source": [
    "# Categories\n",
    "categories = activities.pivot_table(index=['Category'], values='Seconds', aggfunc=np.sum).sort_values(by='Seconds', ascending=False)\n",
    "categories['Hours'] = round(categories['Seconds'] / 60 / 60, 1) \n"
   ]
  },
  {
   "cell_type": "code",
   "execution_count": 28,
   "metadata": {},
   "outputs": [
    {
     "data": {
      "image/png": "[encoded data removed]",
      "text/plain": [
       "<Figure size 1080x216 with 1 Axes>"
      ]
     },
     "metadata": {},
     "output_type": "display_data"
    }
   ],
   "source": [
    "# Chart Project Time \n",
    "dataset = categories.head(20)\n",
    "chart_title = 'Project Time Breakdown'\n",
    "\n",
    "plt.style.use('seaborn-darkgrid')\n",
    "ax = dataset.plot.bar(y='Hours', figsize=(15, 3), rot=90, colormap='plasma', legend=False)\n",
    "ax.set_ylabel('Hours')\n",
    "ax.set_xlabel('')\n",
    "\n",
    "ax.set_title(chart_title)\n",
    "plt.show()"
   ]
  },
  {
   "cell_type": "code",
   "execution_count": 29,
   "metadata": {},
   "outputs": [
    {
     "data": {
      "text/html": [
       "<div>\n",
       "<style scoped>\n",
       "    .dataframe tbody tr th:only-of-type {\n",
       "        vertical-align: middle;\n",
       "    }\n",
       "\n",
       "    .dataframe tbody tr th {\n",
       "        vertical-align: top;\n",
       "    }\n",
       "\n",
       "    .dataframe thead th {\n",
       "        text-align: right;\n",
       "    }\n",
       "</style>\n",
       "<table border=\"1\" class=\"dataframe\">\n",
       "  <thead>\n",
       "    <tr style=\"text-align: right;\">\n",
       "      <th></th>\n",
       "      <th>Seconds</th>\n",
       "      <th>Hours</th>\n",
       "    </tr>\n",
       "    <tr>\n",
       "      <th>Category</th>\n",
       "      <th></th>\n",
       "      <th></th>\n",
       "    </tr>\n",
       "  </thead>\n",
       "  <tbody>\n",
       "    <tr>\n",
       "      <th>General Software Development</th>\n",
       "      <td>11070</td>\n",
       "      <td>3.1</td>\n",
       "    </tr>\n",
       "    <tr>\n",
       "      <th>Uncategorized</th>\n",
       "      <td>7048</td>\n",
       "      <td>2.0</td>\n",
       "    </tr>\n",
       "    <tr>\n",
       "      <th>Writing</th>\n",
       "      <td>4118</td>\n",
       "      <td>1.1</td>\n",
       "    </tr>\n",
       "    <tr>\n",
       "      <th>Intelligence</th>\n",
       "      <td>2636</td>\n",
       "      <td>0.7</td>\n",
       "    </tr>\n",
       "    <tr>\n",
       "      <th>Instant Message</th>\n",
       "      <td>2399</td>\n",
       "      <td>0.7</td>\n",
       "    </tr>\n",
       "    <tr>\n",
       "      <th>Project Management</th>\n",
       "      <td>1375</td>\n",
       "      <td>0.4</td>\n",
       "    </tr>\n",
       "    <tr>\n",
       "      <th>Email</th>\n",
       "      <td>943</td>\n",
       "      <td>0.3</td>\n",
       "    </tr>\n",
       "    <tr>\n",
       "      <th>General Social Networking</th>\n",
       "      <td>867</td>\n",
       "      <td>0.2</td>\n",
       "    </tr>\n",
       "    <tr>\n",
       "      <th>General Reference &amp; Learning</th>\n",
       "      <td>775</td>\n",
       "      <td>0.2</td>\n",
       "    </tr>\n",
       "    <tr>\n",
       "      <th>General Utilities</th>\n",
       "      <td>651</td>\n",
       "      <td>0.2</td>\n",
       "    </tr>\n",
       "    <tr>\n",
       "      <th>Editing &amp; IDEs</th>\n",
       "      <td>500</td>\n",
       "      <td>0.1</td>\n",
       "    </tr>\n",
       "    <tr>\n",
       "      <th>Systems Operations</th>\n",
       "      <td>467</td>\n",
       "      <td>0.1</td>\n",
       "    </tr>\n",
       "    <tr>\n",
       "      <th>Search</th>\n",
       "      <td>445</td>\n",
       "      <td>0.1</td>\n",
       "    </tr>\n",
       "    <tr>\n",
       "      <th>Browsers</th>\n",
       "      <td>369</td>\n",
       "      <td>0.1</td>\n",
       "    </tr>\n",
       "    <tr>\n",
       "      <th>General Business</th>\n",
       "      <td>291</td>\n",
       "      <td>0.1</td>\n",
       "    </tr>\n",
       "  </tbody>\n",
       "</table>\n",
       "</div>"
      ],
      "text/plain": [
       "                              Seconds  Hours\n",
       "Category                                    \n",
       "General Software Development    11070    3.1\n",
       "Uncategorized                    7048    2.0\n",
       "Writing                          4118    1.1\n",
       "Intelligence                     2636    0.7\n",
       "Instant Message                  2399    0.7\n",
       "Project Management               1375    0.4\n",
       "Email                             943    0.3\n",
       "General Social Networking         867    0.2\n",
       "General Reference & Learning      775    0.2\n",
       "General Utilities                 651    0.2\n",
       "Editing & IDEs                    500    0.1\n",
       "Systems Operations                467    0.1\n",
       "Search                            445    0.1\n",
       "Browsers                          369    0.1\n",
       "General Business                  291    0.1"
      ]
     },
     "execution_count": 29,
     "metadata": {},
     "output_type": "execute_result"
    }
   ],
   "source": [
    "# top 15 Categories\n",
    "categories.head(15)"
   ]
  },
  {
   "cell_type": "markdown",
   "metadata": {},
   "source": [
    "-----"
   ]
  },
  {
   "cell_type": "markdown",
   "metadata": {},
   "source": [
    "## Category Breakdown of Time Usage"
   ]
  },
  {
   "cell_type": "code",
   "execution_count": 30,
   "metadata": {},
   "outputs": [],
   "source": [
    "# Categories\n",
    "apps = activities.pivot_table(index=['Actitivity'], values='Seconds', aggfunc=np.sum).sort_values(by='Seconds', ascending=False)\n",
    "apps['Hours'] = round(apps['Seconds'] / 60 / 60, 1) \n"
   ]
  },
  {
   "cell_type": "code",
   "execution_count": 31,
   "metadata": {},
   "outputs": [
    {
     "data": {
      "image/png": "[encoded data removed]",
      "text/plain": [
       "<Figure size 1080x216 with 1 Axes>"
      ]
     },
     "metadata": {},
     "output_type": "display_data"
    }
   ],
   "source": [
    "# Chart Project Time \n",
    "dataset = apps.head(20)\n",
    "chart_title = 'App Time Breakdown'\n",
    "\n",
    "plt.style.use('seaborn-darkgrid')\n",
    "ax = dataset.plot.bar(y='Hours', figsize=(15, 3), rot=90, colormap='autumn', legend=False)\n",
    "ax.set_ylabel('Hours')\n",
    "ax.set_xlabel('')\n",
    "\n",
    "ax.set_title(chart_title)\n",
    "plt.show()"
   ]
  },
  {
   "cell_type": "code",
   "execution_count": 32,
   "metadata": {},
   "outputs": [
    {
     "data": {
      "text/html": [
       "<div>\n",
       "<style scoped>\n",
       "    .dataframe tbody tr th:only-of-type {\n",
       "        vertical-align: middle;\n",
       "    }\n",
       "\n",
       "    .dataframe tbody tr th {\n",
       "        vertical-align: top;\n",
       "    }\n",
       "\n",
       "    .dataframe thead th {\n",
       "        text-align: right;\n",
       "    }\n",
       "</style>\n",
       "<table border=\"1\" class=\"dataframe\">\n",
       "  <thead>\n",
       "    <tr style=\"text-align: right;\">\n",
       "      <th></th>\n",
       "      <th>Seconds</th>\n",
       "      <th>Hours</th>\n",
       "    </tr>\n",
       "    <tr>\n",
       "      <th>Actitivity</th>\n",
       "      <th></th>\n",
       "      <th></th>\n",
       "    </tr>\n",
       "  </thead>\n",
       "  <tbody>\n",
       "    <tr>\n",
       "      <th>localhost:8888</th>\n",
       "      <td>5210</td>\n",
       "      <td>1.4</td>\n",
       "    </tr>\n",
       "    <tr>\n",
       "      <th>Google Documents</th>\n",
       "      <td>4103</td>\n",
       "      <td>1.1</td>\n",
       "    </tr>\n",
       "    <tr>\n",
       "      <th>markwk.com</th>\n",
       "      <td>3650</td>\n",
       "      <td>1.0</td>\n",
       "    </tr>\n",
       "    <tr>\n",
       "      <th>github.com</th>\n",
       "      <td>2816</td>\n",
       "      <td>0.8</td>\n",
       "    </tr>\n",
       "    <tr>\n",
       "      <th>app.slack.com</th>\n",
       "      <td>1954</td>\n",
       "      <td>0.5</td>\n",
       "    </tr>\n",
       "    <tr>\n",
       "      <th>consultas.detrannet.sc.gov.br</th>\n",
       "      <td>1815</td>\n",
       "      <td>0.5</td>\n",
       "    </tr>\n",
       "    <tr>\n",
       "      <th>rawgit.com</th>\n",
       "      <td>1694</td>\n",
       "      <td>0.5</td>\n",
       "    </tr>\n",
       "    <tr>\n",
       "      <th>trello.com</th>\n",
       "      <td>1375</td>\n",
       "      <td>0.4</td>\n",
       "    </tr>\n",
       "    <tr>\n",
       "      <th>quantifiedself.com</th>\n",
       "      <td>1256</td>\n",
       "      <td>0.3</td>\n",
       "    </tr>\n",
       "    <tr>\n",
       "      <th>detran.sc.gov.br</th>\n",
       "      <td>1247</td>\n",
       "      <td>0.3</td>\n",
       "    </tr>\n",
       "    <tr>\n",
       "      <th>rescuetime.com</th>\n",
       "      <td>1148</td>\n",
       "      <td>0.3</td>\n",
       "    </tr>\n",
       "    <tr>\n",
       "      <th>stackoverflow.com</th>\n",
       "      <td>904</td>\n",
       "      <td>0.3</td>\n",
       "    </tr>\n",
       "    <tr>\n",
       "      <th>gyrosco.pe</th>\n",
       "      <td>792</td>\n",
       "      <td>0.2</td>\n",
       "    </tr>\n",
       "    <tr>\n",
       "      <th>Gmail</th>\n",
       "      <td>678</td>\n",
       "      <td>0.2</td>\n",
       "    </tr>\n",
       "    <tr>\n",
       "      <th>piazza.com</th>\n",
       "      <td>512</td>\n",
       "      <td>0.1</td>\n",
       "    </tr>\n",
       "  </tbody>\n",
       "</table>\n",
       "</div>"
      ],
      "text/plain": [
       "                               Seconds  Hours\n",
       "Actitivity                                   \n",
       "localhost:8888                    5210    1.4\n",
       "Google Documents                  4103    1.1\n",
       "markwk.com                        3650    1.0\n",
       "github.com                        2816    0.8\n",
       "app.slack.com                     1954    0.5\n",
       "consultas.detrannet.sc.gov.br     1815    0.5\n",
       "rawgit.com                        1694    0.5\n",
       "trello.com                        1375    0.4\n",
       "quantifiedself.com                1256    0.3\n",
       "detran.sc.gov.br                  1247    0.3\n",
       "rescuetime.com                    1148    0.3\n",
       "stackoverflow.com                  904    0.3\n",
       "gyrosco.pe                         792    0.2\n",
       "Gmail                              678    0.2\n",
       "piazza.com                         512    0.1"
      ]
     },
     "execution_count": 32,
     "metadata": {},
     "output_type": "execute_result"
    }
   ],
   "source": [
    "# top 15 Apps\n",
    "apps.head(15)"
   ]
  },
  {
   "cell_type": "markdown",
   "metadata": {},
   "source": [
    "----"
   ]
  },
  {
   "cell_type": "markdown",
   "metadata": {},
   "source": [
    "## Yearly Breakdown"
   ]
  },
  {
   "cell_type": "code",
   "execution_count": 52,
   "metadata": {},
   "outputs": [],
   "source": [
    "year_data = activities.groupby(['Year', 'Productive'])['Seconds'].sum().reset_index(name='Seconds')\n",
    "year_data['Hours'] = year_data['Seconds'] / 60 / 60\n",
    "yearly_data = np.round(year_data.pivot_table(index=['Year'], columns='Productive', values='Hours', aggfunc=np.sum),2)\n",
    "# change order\n",
    "yearly_data = yearly_data[['very productive', 'productive', 'neutral', 'distracting', 'very distracting']]"
   ]
  },
  {
   "cell_type": "code",
   "execution_count": 31,
   "metadata": {},
   "outputs": [],
   "source": [
    "# yearly_data"
   ]
  },
  {
   "cell_type": "code",
   "execution_count": 53,
   "metadata": {},
   "outputs": [
    {
     "ename": "TypeError",
     "evalue": "Empty 'DataFrame': no numeric data to plot",
     "output_type": "error",
     "traceback": [
      "\u001b[1;31m---------------------------------------------------------------------------\u001b[0m",
      "\u001b[1;31mTypeError\u001b[0m                                 Traceback (most recent call last)",
      "\u001b[1;32m<ipython-input-53-c24c5c2892c6>\u001b[0m in \u001b[0;36m<module>\u001b[1;34m\u001b[0m\n\u001b[0;32m      4\u001b[0m \u001b[1;33m\u001b[0m\u001b[0m\n\u001b[0;32m      5\u001b[0m \u001b[0mplt\u001b[0m\u001b[1;33m.\u001b[0m\u001b[0mstyle\u001b[0m\u001b[1;33m.\u001b[0m\u001b[0muse\u001b[0m\u001b[1;33m(\u001b[0m\u001b[1;34m'seaborn-darkgrid'\u001b[0m\u001b[1;33m)\u001b[0m\u001b[1;33m\u001b[0m\u001b[1;33m\u001b[0m\u001b[0m\n\u001b[1;32m----> 6\u001b[1;33m \u001b[0max\u001b[0m \u001b[1;33m=\u001b[0m \u001b[0mdataset\u001b[0m\u001b[1;33m.\u001b[0m\u001b[0mplot\u001b[0m\u001b[1;33m.\u001b[0m\u001b[0mbar\u001b[0m\u001b[1;33m(\u001b[0m\u001b[0mfigsize\u001b[0m\u001b[1;33m=\u001b[0m\u001b[1;33m(\u001b[0m\u001b[1;36m14\u001b[0m\u001b[1;33m,\u001b[0m \u001b[1;36m5\u001b[0m\u001b[1;33m)\u001b[0m\u001b[1;33m,\u001b[0m \u001b[0mrot\u001b[0m\u001b[1;33m=\u001b[0m\u001b[1;36m0\u001b[0m\u001b[1;33m,\u001b[0m \u001b[0mcolormap\u001b[0m\u001b[1;33m=\u001b[0m\u001b[1;34m'spring'\u001b[0m\u001b[1;33m,\u001b[0m \u001b[0mstacked\u001b[0m\u001b[1;33m=\u001b[0m\u001b[1;32mTrue\u001b[0m\u001b[1;33m)\u001b[0m\u001b[1;33m\u001b[0m\u001b[1;33m\u001b[0m\u001b[0m\n\u001b[0m\u001b[0;32m      7\u001b[0m \u001b[0max\u001b[0m\u001b[1;33m.\u001b[0m\u001b[0mset_ylabel\u001b[0m\u001b[1;33m(\u001b[0m\u001b[1;34m'Hours'\u001b[0m\u001b[1;33m)\u001b[0m\u001b[1;33m\u001b[0m\u001b[1;33m\u001b[0m\u001b[0m\n\u001b[0;32m      8\u001b[0m \u001b[0max\u001b[0m\u001b[1;33m.\u001b[0m\u001b[0mset_xlabel\u001b[0m\u001b[1;33m(\u001b[0m\u001b[1;34m''\u001b[0m\u001b[1;33m)\u001b[0m\u001b[1;33m\u001b[0m\u001b[1;33m\u001b[0m\u001b[0m\n",
      "\u001b[1;32mc:\\users\\tyler\\appdata\\local\\programs\\python\\python37\\lib\\site-packages\\pandas\\plotting\\_core.py\u001b[0m in \u001b[0;36mbar\u001b[1;34m(self, x, y, **kwds)\u001b[0m\n\u001b[0;32m   3086\u001b[0m             \u001b[1;33m>>\u001b[0m\u001b[1;33m>\u001b[0m \u001b[0max\u001b[0m \u001b[1;33m=\u001b[0m \u001b[0mdf\u001b[0m\u001b[1;33m.\u001b[0m\u001b[0mplot\u001b[0m\u001b[1;33m.\u001b[0m\u001b[0mbar\u001b[0m\u001b[1;33m(\u001b[0m\u001b[0mx\u001b[0m\u001b[1;33m=\u001b[0m\u001b[1;34m'lifespan'\u001b[0m\u001b[1;33m,\u001b[0m \u001b[0mrot\u001b[0m\u001b[1;33m=\u001b[0m\u001b[1;36m0\u001b[0m\u001b[1;33m)\u001b[0m\u001b[1;33m\u001b[0m\u001b[1;33m\u001b[0m\u001b[0m\n\u001b[0;32m   3087\u001b[0m         \"\"\"\n\u001b[1;32m-> 3088\u001b[1;33m         \u001b[1;32mreturn\u001b[0m \u001b[0mself\u001b[0m\u001b[1;33m(\u001b[0m\u001b[0mkind\u001b[0m\u001b[1;33m=\u001b[0m\u001b[1;34m'bar'\u001b[0m\u001b[1;33m,\u001b[0m \u001b[0mx\u001b[0m\u001b[1;33m=\u001b[0m\u001b[0mx\u001b[0m\u001b[1;33m,\u001b[0m \u001b[0my\u001b[0m\u001b[1;33m=\u001b[0m\u001b[0my\u001b[0m\u001b[1;33m,\u001b[0m \u001b[1;33m**\u001b[0m\u001b[0mkwds\u001b[0m\u001b[1;33m)\u001b[0m\u001b[1;33m\u001b[0m\u001b[1;33m\u001b[0m\u001b[0m\n\u001b[0m\u001b[0;32m   3089\u001b[0m \u001b[1;33m\u001b[0m\u001b[0m\n\u001b[0;32m   3090\u001b[0m     \u001b[1;32mdef\u001b[0m \u001b[0mbarh\u001b[0m\u001b[1;33m(\u001b[0m\u001b[0mself\u001b[0m\u001b[1;33m,\u001b[0m \u001b[0mx\u001b[0m\u001b[1;33m=\u001b[0m\u001b[1;32mNone\u001b[0m\u001b[1;33m,\u001b[0m \u001b[0my\u001b[0m\u001b[1;33m=\u001b[0m\u001b[1;32mNone\u001b[0m\u001b[1;33m,\u001b[0m \u001b[1;33m**\u001b[0m\u001b[0mkwds\u001b[0m\u001b[1;33m)\u001b[0m\u001b[1;33m:\u001b[0m\u001b[1;33m\u001b[0m\u001b[1;33m\u001b[0m\u001b[0m\n",
      "\u001b[1;32mc:\\users\\tyler\\appdata\\local\\programs\\python\\python37\\lib\\site-packages\\pandas\\plotting\\_core.py\u001b[0m in \u001b[0;36m__call__\u001b[1;34m(self, x, y, kind, ax, subplots, sharex, sharey, layout, figsize, use_index, title, grid, legend, style, logx, logy, loglog, xticks, yticks, xlim, ylim, rot, fontsize, colormap, table, yerr, xerr, secondary_y, sort_columns, **kwds)\u001b[0m\n\u001b[0;32m   2937\u001b[0m                           \u001b[0mfontsize\u001b[0m\u001b[1;33m=\u001b[0m\u001b[0mfontsize\u001b[0m\u001b[1;33m,\u001b[0m \u001b[0mcolormap\u001b[0m\u001b[1;33m=\u001b[0m\u001b[0mcolormap\u001b[0m\u001b[1;33m,\u001b[0m \u001b[0mtable\u001b[0m\u001b[1;33m=\u001b[0m\u001b[0mtable\u001b[0m\u001b[1;33m,\u001b[0m\u001b[1;33m\u001b[0m\u001b[1;33m\u001b[0m\u001b[0m\n\u001b[0;32m   2938\u001b[0m                           \u001b[0myerr\u001b[0m\u001b[1;33m=\u001b[0m\u001b[0myerr\u001b[0m\u001b[1;33m,\u001b[0m \u001b[0mxerr\u001b[0m\u001b[1;33m=\u001b[0m\u001b[0mxerr\u001b[0m\u001b[1;33m,\u001b[0m \u001b[0msecondary_y\u001b[0m\u001b[1;33m=\u001b[0m\u001b[0msecondary_y\u001b[0m\u001b[1;33m,\u001b[0m\u001b[1;33m\u001b[0m\u001b[1;33m\u001b[0m\u001b[0m\n\u001b[1;32m-> 2939\u001b[1;33m                           sort_columns=sort_columns, **kwds)\n\u001b[0m\u001b[0;32m   2940\u001b[0m     \u001b[0m__call__\u001b[0m\u001b[1;33m.\u001b[0m\u001b[0m__doc__\u001b[0m \u001b[1;33m=\u001b[0m \u001b[0mplot_frame\u001b[0m\u001b[1;33m.\u001b[0m\u001b[0m__doc__\u001b[0m\u001b[1;33m\u001b[0m\u001b[1;33m\u001b[0m\u001b[0m\n\u001b[0;32m   2941\u001b[0m \u001b[1;33m\u001b[0m\u001b[0m\n",
      "\u001b[1;32mc:\\users\\tyler\\appdata\\local\\programs\\python\\python37\\lib\\site-packages\\pandas\\plotting\\_core.py\u001b[0m in \u001b[0;36mplot_frame\u001b[1;34m(data, x, y, kind, ax, subplots, sharex, sharey, layout, figsize, use_index, title, grid, legend, style, logx, logy, loglog, xticks, yticks, xlim, ylim, rot, fontsize, colormap, table, yerr, xerr, secondary_y, sort_columns, **kwds)\u001b[0m\n\u001b[0;32m   1968\u001b[0m                  \u001b[0myerr\u001b[0m\u001b[1;33m=\u001b[0m\u001b[0myerr\u001b[0m\u001b[1;33m,\u001b[0m \u001b[0mxerr\u001b[0m\u001b[1;33m=\u001b[0m\u001b[0mxerr\u001b[0m\u001b[1;33m,\u001b[0m\u001b[1;33m\u001b[0m\u001b[1;33m\u001b[0m\u001b[0m\n\u001b[0;32m   1969\u001b[0m                  \u001b[0msecondary_y\u001b[0m\u001b[1;33m=\u001b[0m\u001b[0msecondary_y\u001b[0m\u001b[1;33m,\u001b[0m \u001b[0msort_columns\u001b[0m\u001b[1;33m=\u001b[0m\u001b[0msort_columns\u001b[0m\u001b[1;33m,\u001b[0m\u001b[1;33m\u001b[0m\u001b[1;33m\u001b[0m\u001b[0m\n\u001b[1;32m-> 1970\u001b[1;33m                  **kwds)\n\u001b[0m\u001b[0;32m   1971\u001b[0m \u001b[1;33m\u001b[0m\u001b[0m\n\u001b[0;32m   1972\u001b[0m \u001b[1;33m\u001b[0m\u001b[0m\n",
      "\u001b[1;32mc:\\users\\tyler\\appdata\\local\\programs\\python\\python37\\lib\\site-packages\\pandas\\plotting\\_core.py\u001b[0m in \u001b[0;36m_plot\u001b[1;34m(data, x, y, subplots, ax, kind, **kwds)\u001b[0m\n\u001b[0;32m   1796\u001b[0m         \u001b[0mplot_obj\u001b[0m \u001b[1;33m=\u001b[0m \u001b[0mklass\u001b[0m\u001b[1;33m(\u001b[0m\u001b[0mdata\u001b[0m\u001b[1;33m,\u001b[0m \u001b[0msubplots\u001b[0m\u001b[1;33m=\u001b[0m\u001b[0msubplots\u001b[0m\u001b[1;33m,\u001b[0m \u001b[0max\u001b[0m\u001b[1;33m=\u001b[0m\u001b[0max\u001b[0m\u001b[1;33m,\u001b[0m \u001b[0mkind\u001b[0m\u001b[1;33m=\u001b[0m\u001b[0mkind\u001b[0m\u001b[1;33m,\u001b[0m \u001b[1;33m**\u001b[0m\u001b[0mkwds\u001b[0m\u001b[1;33m)\u001b[0m\u001b[1;33m\u001b[0m\u001b[1;33m\u001b[0m\u001b[0m\n\u001b[0;32m   1797\u001b[0m \u001b[1;33m\u001b[0m\u001b[0m\n\u001b[1;32m-> 1798\u001b[1;33m     \u001b[0mplot_obj\u001b[0m\u001b[1;33m.\u001b[0m\u001b[0mgenerate\u001b[0m\u001b[1;33m(\u001b[0m\u001b[1;33m)\u001b[0m\u001b[1;33m\u001b[0m\u001b[1;33m\u001b[0m\u001b[0m\n\u001b[0m\u001b[0;32m   1799\u001b[0m     \u001b[0mplot_obj\u001b[0m\u001b[1;33m.\u001b[0m\u001b[0mdraw\u001b[0m\u001b[1;33m(\u001b[0m\u001b[1;33m)\u001b[0m\u001b[1;33m\u001b[0m\u001b[1;33m\u001b[0m\u001b[0m\n\u001b[0;32m   1800\u001b[0m     \u001b[1;32mreturn\u001b[0m \u001b[0mplot_obj\u001b[0m\u001b[1;33m.\u001b[0m\u001b[0mresult\u001b[0m\u001b[1;33m\u001b[0m\u001b[1;33m\u001b[0m\u001b[0m\n",
      "\u001b[1;32mc:\\users\\tyler\\appdata\\local\\programs\\python\\python37\\lib\\site-packages\\pandas\\plotting\\_core.py\u001b[0m in \u001b[0;36mgenerate\u001b[1;34m(self)\u001b[0m\n\u001b[0;32m    247\u001b[0m     \u001b[1;32mdef\u001b[0m \u001b[0mgenerate\u001b[0m\u001b[1;33m(\u001b[0m\u001b[0mself\u001b[0m\u001b[1;33m)\u001b[0m\u001b[1;33m:\u001b[0m\u001b[1;33m\u001b[0m\u001b[1;33m\u001b[0m\u001b[0m\n\u001b[0;32m    248\u001b[0m         \u001b[0mself\u001b[0m\u001b[1;33m.\u001b[0m\u001b[0m_args_adjust\u001b[0m\u001b[1;33m(\u001b[0m\u001b[1;33m)\u001b[0m\u001b[1;33m\u001b[0m\u001b[1;33m\u001b[0m\u001b[0m\n\u001b[1;32m--> 249\u001b[1;33m         \u001b[0mself\u001b[0m\u001b[1;33m.\u001b[0m\u001b[0m_compute_plot_data\u001b[0m\u001b[1;33m(\u001b[0m\u001b[1;33m)\u001b[0m\u001b[1;33m\u001b[0m\u001b[1;33m\u001b[0m\u001b[0m\n\u001b[0m\u001b[0;32m    250\u001b[0m         \u001b[0mself\u001b[0m\u001b[1;33m.\u001b[0m\u001b[0m_setup_subplots\u001b[0m\u001b[1;33m(\u001b[0m\u001b[1;33m)\u001b[0m\u001b[1;33m\u001b[0m\u001b[1;33m\u001b[0m\u001b[0m\n\u001b[0;32m    251\u001b[0m         \u001b[0mself\u001b[0m\u001b[1;33m.\u001b[0m\u001b[0m_make_plot\u001b[0m\u001b[1;33m(\u001b[0m\u001b[1;33m)\u001b[0m\u001b[1;33m\u001b[0m\u001b[1;33m\u001b[0m\u001b[0m\n",
      "\u001b[1;32mc:\\users\\tyler\\appdata\\local\\programs\\python\\python37\\lib\\site-packages\\pandas\\plotting\\_core.py\u001b[0m in \u001b[0;36m_compute_plot_data\u001b[1;34m(self)\u001b[0m\n\u001b[0;32m    362\u001b[0m         \u001b[1;32mif\u001b[0m \u001b[0mis_empty\u001b[0m\u001b[1;33m:\u001b[0m\u001b[1;33m\u001b[0m\u001b[1;33m\u001b[0m\u001b[0m\n\u001b[0;32m    363\u001b[0m             raise TypeError('Empty {0!r}: no numeric data to '\n\u001b[1;32m--> 364\u001b[1;33m                             'plot'.format(numeric_data.__class__.__name__))\n\u001b[0m\u001b[0;32m    365\u001b[0m \u001b[1;33m\u001b[0m\u001b[0m\n\u001b[0;32m    366\u001b[0m         \u001b[0mself\u001b[0m\u001b[1;33m.\u001b[0m\u001b[0mdata\u001b[0m \u001b[1;33m=\u001b[0m \u001b[0mnumeric_data\u001b[0m\u001b[1;33m\u001b[0m\u001b[1;33m\u001b[0m\u001b[0m\n",
      "\u001b[1;31mTypeError\u001b[0m: Empty 'DataFrame': no numeric data to plot"
     ]
    }
   ],
   "source": [
    "# Chart Yearly Time \n",
    "dataset = yearly_data[:-1]\n",
    "chart_title = 'Yearly Productive Time Breakdown'\n",
    "\n",
    "plt.style.use('seaborn-darkgrid')\n",
    "ax = dataset.plot.bar(figsize=(14, 5), rot=0, colormap='spring', stacked=True)\n",
    "ax.set_ylabel('Hours')\n",
    "ax.set_xlabel('')\n",
    "ax.legend(loc='upper left')\n",
    "ax.set_title(chart_title)\n",
    "plt.show()"
   ]
  },
  {
   "cell_type": "markdown",
   "metadata": {},
   "source": [
    "-----"
   ]
  },
  {
   "cell_type": "markdown",
   "metadata": {},
   "source": [
    "## Monthly Breakdown"
   ]
  },
  {
   "cell_type": "code",
   "execution_count": 33,
   "metadata": {},
   "outputs": [
    {
     "data": {
      "text/plain": [
       "Index(['Timestamp', 'Seconds', 'NumberPeople', 'Actitivity', 'Document',\n",
       "       'Category', 'Productivity', 'Productive', 'Date', 'Year', 'Month',\n",
       "       'Mnth_yr', 'Dow', 'Hour'],\n",
       "      dtype='object')"
      ]
     },
     "execution_count": 33,
     "metadata": {},
     "output_type": "execute_result"
    }
   ],
   "source": [
    "activities.columns"
   ]
  },
  {
   "cell_type": "code",
   "execution_count": 34,
   "metadata": {},
   "outputs": [],
   "source": [
    "month_data = activities.groupby(['Mnth_yr', 'Productive'])['Seconds'].sum().reset_index(name='Seconds')\n",
    "month_data['Hours'] = month_data['Seconds'] / 60 / 60\n",
    "monthly_data = np.round(month_data.pivot_table(index=['Mnth_yr'], columns='Productive', values='Hours', aggfunc=np.sum),2)\n",
    "# change order\n",
    "monthly_data = monthly_data[['very productive', 'productive', 'neutral', 'distracting', 'very distracting']]"
   ]
  },
  {
   "cell_type": "code",
   "execution_count": 35,
   "metadata": {},
   "outputs": [
    {
     "data": {
      "image/png": "[encoded data removed]",
      "text/plain": [
       "<matplotlib.figure.Figure at 0x1172ba710>"
      ]
     },
     "metadata": {},
     "output_type": "display_data"
    }
   ],
   "source": [
    "# Chart Monthly Time \n",
    "dataset = monthly_data[:-1].tail(24)\n",
    "chart_title = 'Monthly Productive Time Breakdown (Last 24 Months)'\n",
    "\n",
    "plt.style.use('seaborn-darkgrid')\n",
    "ax = dataset.plot.bar(figsize=(14, 5), rot=90, colormap='spring', stacked=True)\n",
    "ax.set_ylabel('Hours')\n",
    "ax.set_xlabel('')\n",
    "ax.legend(loc='best')\n",
    "ax.set_title(chart_title)\n",
    "plt.show()"
   ]
  },
  {
   "cell_type": "markdown",
   "metadata": {},
   "source": [
    "----"
   ]
  },
  {
   "cell_type": "markdown",
   "metadata": {},
   "source": [
    "# Rescuetime Usage Data Summary"
   ]
  },
  {
   "cell_type": "code",
   "execution_count": 36,
   "metadata": {},
   "outputs": [
    {
     "name": "stdout",
     "output_type": "stream",
     "text": [
      "====== RescueTme Time Lifetime Summary ====== \n",
      "Total Number of Tracked Days: 2,298\n",
      "All-time Computer Time in Days: 603\n",
      "All-time Computer in Hours: 14,481.72\n",
      "Daily Average (of tracked days): 6.3 hrs\n",
      " \n",
      "Top 5 Days with Most Hours:\n",
      "* 15.22 hrs on 2012-12-20\n",
      "* 14.73 hrs on 2012-12-31\n",
      "* 14.31 hrs on 2014-01-31\n",
      "* 14.25 hrs on 2014-01-06\n",
      "* 14.14 hrs on 2013-04-19\n",
      " \n",
      "Top 7 Apps by Usage:\n",
      "* 1148.1 hrs: evernote\n",
      "* 664.3 hrs: Gmail\n",
      "* 576.7 hrs: sublime text 2\n",
      "* 478.1 hrs: Skype\n",
      "* 436.7 hrs: inbox.google.com\n",
      "* 412.4 hrs: youtube.com\n",
      "* 367.0 hrs: projects.int3c.com\n",
      " \n"
     ]
    }
   ],
   "source": [
    "# Life-time Project Time Summary\n",
    "print('====== RescueTme Time Lifetime Summary ====== ')\n",
    "print('Total Number of Tracked Days: {:,}'.format(len(total_computer_time_by_date)))\n",
    "total_hours = round(total_computer_time_by_date['Hours'].sum().item(),2)\n",
    "print('All-time Computer Time in Days: {:,}'.format(round(total_hours/24),1))\n",
    "print('All-time Computer in Hours: {:,}'.format(total_hours))\n",
    "daily_average = round(total_computer_time_by_date['Hours'].mean(),1)\n",
    "print('Daily Average (of tracked days): {:,} hrs'.format(daily_average))\n",
    "print(' ')\n",
    "\n",
    "print('Top 5 Days with Most Hours:')\n",
    "for index, row in total_computer_time_by_date.sort_values(by=['Hours'], ascending=False).head(5).iterrows():\n",
    "    print(\"* \" + str(row[\"Hours\"]) + \" hrs\" + \" on \" + str(row.name))\n",
    "print(' ')\n",
    "\n",
    "print('Top 7 Apps by Usage:')\n",
    "for index, row in apps.head(7).iterrows():\n",
    "    print(\"* \" + str(row[\"Hours\"]) + \" hrs\" + \": \" + str(row.name))\n",
    "print(' ')"
   ]
  },
  {
   "cell_type": "markdown",
   "metadata": {},
   "source": [
    "----"
   ]
  },
  {
   "cell_type": "markdown",
   "metadata": {},
   "source": [
    "# Year in Review Data Analysis"
   ]
  },
  {
   "cell_type": "code",
   "execution_count": 37,
   "metadata": {},
   "outputs": [],
   "source": [
    "# Set Year\n",
    "target_year = 2018"
   ]
  },
  {
   "cell_type": "code",
   "execution_count": 38,
   "metadata": {},
   "outputs": [],
   "source": [
    "# use existing data\n",
    "days_productive_time = pd.read_csv(\"data/days_productive_time.csv\")\n",
    "days_productive_time.fillna(0, inplace=True)\n",
    "days_productive_time['Date'] = pd.to_datetime(days_productive_time['Date'])\n",
    "days_productive_time['Year'] = days_productive_time['Date'].dt.year\n",
    "days_productive_time['Month'] = days_productive_time['Date'].dt.month"
   ]
  },
  {
   "cell_type": "markdown",
   "metadata": {},
   "source": [
    "### General Summary"
   ]
  },
  {
   "cell_type": "code",
   "execution_count": 39,
   "metadata": {},
   "outputs": [],
   "source": [
    "def yearly_summary(year):  \n",
    "    print('====== {} RescueTime Summary ======'.format(year))\n",
    "    # Data Setup\n",
    "    year_data = activities[(activities['Year'] == year)]\n",
    "    \n",
    "    year_time_dates = year_data.groupby(['Date'])['Seconds'].sum().to_frame()\n",
    "    year_time_dates['Hours'] = round(year_time_dates['Seconds']/60/60,1)\n",
    "    print('{:,} total computer time dates'.format(len(year_time_dates)))\n",
    "    print('{:,} total computer hours'.format(round(year_time_dates['Hours'].sum(),2)))\n",
    "    daily_average = round(year_time_dates['Hours'].mean(),1)\n",
    "    print('Daily Average (of tracked days): {:,} hrs'.format(daily_average))\n",
    "    print('')\n",
    "\n",
    "    print('Top 5 Days with Most Hours:')\n",
    "    for index, row in year_time_dates.sort_values(by=['Hours'], ascending=False).head(5).iterrows():\n",
    "        print(\"* \" + str(row[\"Hours\"]) + \" hrs on \" + row.name)\n",
    "    print(' ')\n",
    "    \n",
    "    print('Top 7 Categories:')\n",
    "    year_categories = year_data.groupby(['Category'])['Seconds'].sum().to_frame()\n",
    "    year_categories['Hours'] = round(year_categories['Seconds']/60/60,1)\n",
    "    for index, row in year_categories.sort_values(by=['Hours'], ascending=False).head(7).iterrows():\n",
    "        print(\"* \" + str(row[\"Hours\"]) + \" hrs on \" + row.name)\n",
    "    print(' ')\n",
    "    \n",
    "    print('Top 7 Apps:')\n",
    "    year_categories = year_data.groupby(['Category'])['Seconds'].sum().to_frame()\n",
    "    year_categories['Hours'] = round(year_categories['Seconds']/60/60,1)\n",
    "    for index, row in year_categories.sort_values(by=['Hours'], ascending=False).head(7).iterrows():\n",
    "        print(\"* \" + str(row[\"Hours\"]) + \" hrs on \" + row.name)\n",
    "    print(' ')"
   ]
  },
  {
   "cell_type": "code",
   "execution_count": 40,
   "metadata": {},
   "outputs": [
    {
     "name": "stdout",
     "output_type": "stream",
     "text": [
      "====== 2018 RescueTime Summary ======\n",
      "344 total computer time dates\n",
      "2,256.7 total computer hours\n",
      "Daily Average (of tracked days): 6.6 hrs\n",
      "\n",
      "Top 5 Days with Most Hours:\n",
      "* 14.1 hrs on 2018-10-29\n",
      "* 13.0 hrs on 2018-07-09\n",
      "* 12.4 hrs on 2018-11-21\n",
      "* 11.5 hrs on 2018-04-13\n",
      "* 11.5 hrs on 2018-11-20\n",
      " \n",
      "Top 7 Categories:\n",
      "* 563.7 hrs on General Software Development\n",
      "* 429.8 hrs on Writing\n",
      "* 170.7 hrs on General Reference & Learning\n",
      "* 96.9 hrs on General Utilities\n",
      "* 91.2 hrs on Editing & IDEs\n",
      "* 90.3 hrs on Search\n",
      "* 87.2 hrs on General Business\n",
      " \n",
      "Top 7 Apps:\n",
      "* 563.7 hrs on General Software Development\n",
      "* 429.8 hrs on Writing\n",
      "* 170.7 hrs on General Reference & Learning\n",
      "* 96.9 hrs on General Utilities\n",
      "* 91.2 hrs on Editing & IDEs\n",
      "* 90.3 hrs on Search\n",
      "* 87.2 hrs on General Business\n",
      " \n"
     ]
    }
   ],
   "source": [
    "yearly_summary(year=target_year)"
   ]
  },
  {
   "cell_type": "markdown",
   "metadata": {},
   "source": [
    "### Day of Week Comparison"
   ]
  },
  {
   "cell_type": "code",
   "execution_count": 41,
   "metadata": {},
   "outputs": [],
   "source": [
    "def yearly_workspace_dow_chart(year):    \n",
    "    # Data Setup\n",
    "    year_data = activities[(activities['Year'] == year)]\n",
    "    \n",
    "    year_dow = year_data.groupby(['Date', 'Dow', 'Productive'])['Seconds'].sum().reset_index(name='Seconds')\n",
    "    year_dow['Hours'] = year_dow['Seconds'] / 60 / 60\n",
    "    yearly_dow = np.round(year_dow.pivot_table(index=['Dow'], columns='Productive', values='Hours', aggfunc=np.mean),2)\n",
    "    # change order\n",
    "    yearly_dow = yearly_dow[['very productive', 'productive', 'neutral', 'distracting', 'very distracting']]\n",
    "\n",
    "    chart_title = '{} Daily Computer Time by Day of Week'.format(year, yearly_dow.sum())\n",
    "    plt.style.use('seaborn-darkgrid')\n",
    "    ax = yearly_dow.plot.bar(stacked=True, rot=0, figsize=(12,6), colormap='spring')\n",
    "    ax.set_xlabel('')\n",
    "    ax.set_ylabel('Hours')\n",
    "    ax.set_title(chart_title)\n",
    "    plt.show()"
   ]
  },
  {
   "cell_type": "code",
   "execution_count": 42,
   "metadata": {},
   "outputs": [
    {
     "data": {
      "image/png": "[encoded data removed]",
      "text/plain": [
       "<matplotlib.figure.Figure at 0x114680978>"
      ]
     },
     "metadata": {},
     "output_type": "display_data"
    }
   ],
   "source": [
    "yearly_workspace_dow_chart(year=target_year)"
   ]
  },
  {
   "cell_type": "markdown",
   "metadata": {},
   "source": [
    "### RescueTime as a Yearly Heatmap Calendar"
   ]
  },
  {
   "cell_type": "code",
   "execution_count": 43,
   "metadata": {},
   "outputs": [],
   "source": [
    "# Helper Function to Create Heat Map from Data\n",
    "# Adapted from https://stackoverflow.com/questions/32485907/matplotlib-and-numpy-create-a-calendar-heatmap\n",
    "DAYS = ['Sun.', 'Mon.', 'Tues.', 'Wed.', 'Thurs.', 'Fri.', 'Sat.']\n",
    "MONTHS = ['Jan.', 'Feb.', 'Mar.', 'Apr.', 'May', 'June', 'July', 'Aug.', 'Sept.', 'Oct.', 'Nov.', 'Dec.']\n",
    "\n",
    "\n",
    "def date_heatmap(series, start=None, end=None, mean=False, ax=None, **kwargs):\n",
    "    '''Plot a calendar heatmap given a datetime series.\n",
    "\n",
    "    Arguments:\n",
    "        series (pd.Series):\n",
    "            A series of numeric values with a datetime index. Values occurring\n",
    "            on the same day are combined by sum.\n",
    "        start (Any):\n",
    "            The first day to be considered in the plot. The value can be\n",
    "            anything accepted by :func:`pandas.to_datetime`. The default is the\n",
    "            earliest date in the data.\n",
    "        end (Any):\n",
    "            The last day to be considered in the plot. The value can be\n",
    "            anything accepted by :func:`pandas.to_datetime`. The default is the\n",
    "            latest date in the data.\n",
    "        mean (bool):\n",
    "            Combine values occurring on the same day by mean instead of sum.\n",
    "        ax (matplotlib.Axes or None):\n",
    "            The axes on which to draw the heatmap. The default is the current\n",
    "            axes in the :module:`~matplotlib.pyplot` API.\n",
    "        **kwargs:\n",
    "            Forwarded to :meth:`~matplotlib.Axes.pcolormesh` for drawing the\n",
    "            heatmap.\n",
    "\n",
    "    Returns:\n",
    "        matplotlib.collections.Axes:\n",
    "            The axes on which the heatmap was drawn. This is set as the current\n",
    "            axes in the `~matplotlib.pyplot` API.\n",
    "    '''\n",
    "    # Combine values occurring on the same day.\n",
    "    dates = series.index.floor('D')\n",
    "    group = series.groupby(dates)\n",
    "    series = group.mean() if mean else group.sum()\n",
    "\n",
    "    # Parse start/end, defaulting to the min/max of the index.\n",
    "    start = pd.to_datetime(start or series.index.min())\n",
    "    end = pd.to_datetime(end or series.index.max())\n",
    "\n",
    "    # We use [start, end) as a half-open interval below.\n",
    "    end += np.timedelta64(1, 'D')\n",
    "\n",
    "    # Get the previous/following Sunday to start/end.\n",
    "    # Pandas and numpy day-of-week conventions are Monday=0 and Sunday=6.\n",
    "    start_sun = start - np.timedelta64((start.dayofweek + 1) % 7, 'D')\n",
    "    end_sun = end + np.timedelta64(7 - end.dayofweek - 1, 'D')\n",
    "\n",
    "    # Create the heatmap and track ticks.\n",
    "    num_weeks = (end_sun - start_sun).days // 7\n",
    "    heatmap = np.zeros((7, num_weeks))\n",
    "    ticks = {}  # week number -> month name\n",
    "    for week in range(num_weeks):\n",
    "        for day in range(7):\n",
    "            date = start_sun + np.timedelta64(7 * week + day, 'D')\n",
    "            if date.day == 1:\n",
    "                ticks[week] = MONTHS[date.month - 1]\n",
    "            if date.dayofyear == 1:\n",
    "                ticks[week] += f'\\n{date.year}'\n",
    "            if start <= date < end:\n",
    "                heatmap[day, week] = series.get(date, 0)\n",
    "\n",
    "    # Get the coordinates, offset by 0.5 to align the ticks.\n",
    "    y = np.arange(8) - 0.5\n",
    "    x = np.arange(num_weeks + 1) - 0.5\n",
    "\n",
    "    # Plot the heatmap. Prefer pcolormesh over imshow so that the figure can be\n",
    "    # vectorized when saved to a compatible format. We must invert the axis for\n",
    "    # pcolormesh, but not for imshow, so that it reads top-bottom, left-right.\n",
    "    ax = ax or plt.gca()\n",
    "    mesh = ax.pcolormesh(x, y, heatmap, **kwargs)\n",
    "    ax.invert_yaxis()\n",
    "\n",
    "    # Set the ticks.\n",
    "    ax.set_xticks(list(ticks.keys()))\n",
    "    ax.set_xticklabels(list(ticks.values()))\n",
    "    ax.set_yticks(np.arange(7))\n",
    "    ax.set_yticklabels(DAYS)\n",
    "\n",
    "    # Set the current image and axes in the pyplot API.\n",
    "    plt.sca(ax)\n",
    "    plt.sci(mesh)\n",
    "\n",
    "    return ax"
   ]
  },
  {
   "cell_type": "code",
   "execution_count": 44,
   "metadata": {},
   "outputs": [],
   "source": [
    "def year_heat_chart(year, productivity_type='All'):   \n",
    "\n",
    "    # Filter by Year\n",
    "    year_data = days_productive_time[(days_productive_time['Year'] == year)].copy()\n",
    "    \n",
    "    if productivity_type == 'Productive':\n",
    "        year_dates_data = year_data.groupby(['Date'])['Productive'].sum().reset_index(name='Seconds')\n",
    "    elif productivity_type == 'Distracting':\n",
    "        year_dates_data = year_data.groupby(['Date'])['Distracting'].sum().reset_index(name='Seconds')\n",
    "    else: # all\n",
    "        year_data['Seconds'] = year_data['Neutral'] + year_data['Productive'] + year_data['Distracting']\n",
    "        year_dates_data = year_data.groupby(['Date'])['Seconds'].sum().reset_index(name='Seconds')\n",
    "        \n",
    "    year_dates_data['Hours'] = year_dates_data['Seconds'] / 60 / 60\n",
    "    year_dates_data['Minutes'] = year_dates_data['Seconds'] / 60\n",
    "    \n",
    "    # Generate all dates in that year\n",
    "    first_date = str(year)+'-01-01'#runs_2018_dist['date'].head(1).values[0]\n",
    "    last_date = str(year)+'-12-31'#runs_2018_dist['date'].tail(1).values[0]\n",
    "    all_dates = pd.date_range(start=first_date, end=last_date)\n",
    "    all_dates = pd.DataFrame(all_dates, columns=['Date'])\n",
    "    \n",
    "    # combine actual runs by date with total dates possible\n",
    "    year_data = pd.merge(left=all_dates, right=year_dates_data, \n",
    "                                 left_on=\"Date\", right_on=\"Date\", how=\"outer\")\n",
    "    year_data['Minutes'].fillna(0, inplace=True)\n",
    "    year_data = year_data.set_index(pd.DatetimeIndex(year_data['Date']))\n",
    "    \n",
    "    max_daily_hours = round(year_data['Hours'].max(),0)\n",
    "    \n",
    "    # key stat and title\n",
    "    total_hours = round(year_data['Hours'].sum(),1)\n",
    "    chart_title = '{} RescueTime {} Time | Total Time {:,} Hrs'.format(year, productivity_type, total_hours)\n",
    "    \n",
    "    # set chart data\n",
    "    data = pd.Series(year_data.Hours)\n",
    "    data.index = year_data.index \n",
    "    \n",
    "    # plot data\n",
    "    figsize = plt.figaspect(7 / 56)\n",
    "    fig = plt.figure(figsize=figsize)\n",
    "    ax = date_heatmap(data, edgecolor='black')\n",
    "    max_hrs = int(round(data.max(),0))\n",
    "    steps = int(round(max_hrs / 6, 0))\n",
    "    plt.colorbar(ticks=range(0, max_hrs, steps), pad=0.02)\n",
    "    cmap = mpl.cm.get_cmap('Greens', max_daily_hours)\n",
    "    plt.set_cmap(cmap)\n",
    "    plt.clim(0, max_daily_hours)\n",
    "    ax.set_aspect('equal')\n",
    "    ax.set_title(chart_title)\n",
    "    plt.show()"
   ]
  },
  {
   "cell_type": "code",
   "execution_count": 45,
   "metadata": {},
   "outputs": [
    {
     "data": {
      "image/png": "[encoded data removed]",
      "text/plain": [
       "<matplotlib.figure.Figure at 0x113f63ba8>"
      ]
     },
     "metadata": {},
     "output_type": "display_data"
    }
   ],
   "source": [
    "year_heat_chart(year=target_year, productivity_type='Productive')"
   ]
  },
  {
   "cell_type": "code",
   "execution_count": 46,
   "metadata": {},
   "outputs": [
    {
     "data": {
      "image/png": "[encoded data removed]",
      "text/plain": [
       "<matplotlib.figure.Figure at 0x111ec3518>"
      ]
     },
     "metadata": {},
     "output_type": "display_data"
    }
   ],
   "source": [
    "year_heat_chart(year=target_year, productivity_type='All')"
   ]
  },
  {
   "cell_type": "markdown",
   "metadata": {},
   "source": [
    "## Monthly Breakdown"
   ]
  },
  {
   "cell_type": "code",
   "execution_count": 47,
   "metadata": {},
   "outputs": [],
   "source": [
    "def yearly_month_chart(year):    \n",
    "    # Data Setup\n",
    "    year_data = activities[(activities['Year'] == year)]\n",
    "    \n",
    "    year_month = year_data.groupby(['Month', 'Productive'])['Seconds'].sum().reset_index(name='Seconds')\n",
    "    year_month['Hours'] = year_month['Seconds'] / 60 / 60\n",
    "    year_monthly = np.round(year_month.pivot_table(index=['Month'], columns='Productive', values='Hours', aggfunc=np.mean),2)\n",
    "    # change order\n",
    "    year_monthly = year_monthly[['very productive', 'productive', 'neutral', 'distracting', 'very distracting']]\n",
    "\n",
    "    chart_title = '{} Monthly RescueTime Hours'.format(year)\n",
    "\n",
    "    plt.style.use('seaborn-darkgrid')\n",
    "    ax = year_monthly.plot.bar(stacked=True, rot=0, figsize=(12,6), colormap='spring')\n",
    "    ax.set_xlabel('')\n",
    "    ax.set_ylabel('Hours')\n",
    "    ax.set_title(chart_title)\n",
    "    plt.show()"
   ]
  },
  {
   "cell_type": "code",
   "execution_count": 48,
   "metadata": {},
   "outputs": [
    {
     "data": {
      "image/png": "[encoded data removed]",
      "text/plain": [
       "<matplotlib.figure.Figure at 0x111ea3198>"
      ]
     },
     "metadata": {},
     "output_type": "display_data"
    }
   ],
   "source": [
    "yearly_month_chart(year=target_year)"
   ]
  },
  {
   "cell_type": "markdown",
   "metadata": {},
   "source": [
    "## Yearly Hourly Breakdown"
   ]
  },
  {
   "cell_type": "code",
   "execution_count": 49,
   "metadata": {},
   "outputs": [],
   "source": [
    "# let's use some existing data \n",
    "hourly = pd.read_csv(\"data/dates_hourly_productive_time.csv\")\n",
    "hourly['Date'] = pd.to_datetime(hourly['Date'])\n",
    "hourly['Year'] = hourly['Date'].dt.year"
   ]
  },
  {
   "cell_type": "code",
   "execution_count": 50,
   "metadata": {},
   "outputs": [],
   "source": [
    "def yearly_hourly_chart(year):    \n",
    "    year_hours_data = hourly[(hourly['Year'] == year)]\n",
    "\n",
    "    year_hours = year_hours_data.groupby(['Hour', 'Productive'])['Seconds'].sum().reset_index(name='Seconds')\n",
    "    year_hours['Hours'] = year_hours['Seconds'] / 60 / 60\n",
    "    yearly_hours = np.round(year_hours.pivot_table(index=['Hour'], columns='Productive', values='Hours', aggfunc=np.mean),2)\n",
    "    # change order\n",
    "    yearly_hours = yearly_hours[['very productive', 'productive', 'neutral', 'distracting', 'very distracting']]\n",
    "\n",
    "    chart_title = '{} RescueTime Hourly Breakdown'.format(year)\n",
    "\n",
    "    plt.style.use('seaborn-darkgrid')\n",
    "    ax = yearly_hours.plot.bar(stacked=True, rot=0, figsize=(12,6), colormap='spring')\n",
    "    ax.set_xlabel('')\n",
    "    ax.set_ylabel('Hours')\n",
    "    ax.set_title(chart_title)\n",
    "    plt.show()"
   ]
  },
  {
   "cell_type": "code",
   "execution_count": 51,
   "metadata": {},
   "outputs": [
    {
     "data": {
      "image/png": "[encoded data removed]",
      "text/plain": [
       "<matplotlib.figure.Figure at 0x114487390>"
      ]
     },
     "metadata": {},
     "output_type": "display_data"
    }
   ],
   "source": [
    "yearly_hourly_chart(year=target_year)"
   ]
  }
 ],
 "metadata": {
  "kernelspec": {
   "display_name": "Python 3",
   "language": "python",
   "name": "python3"
  },
  "language_info": {
   "codemirror_mode": {
    "name": "ipython",
    "version": 3
   },
   "file_extension": ".py",
   "mimetype": "text/x-python",
   "name": "python",
   "nbconvert_exporter": "python",
   "pygments_lexer": "ipython3",
   "version": "3.7.2rc1"
  }
 },
 "nbformat": 4,
 "nbformat_minor": 2
}
