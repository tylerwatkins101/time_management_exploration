{
 "cells": [
  {
   "cell_type": "markdown",
   "metadata": {},
   "source": [
    "# Research Data Useful for Time Management - Google "
   ]
  },
  {
   "cell_type": "code",
   "execution_count": 1,
   "metadata": {},
   "outputs": [],
   "source": [
    "# Load standard python libraies\n",
    "\n",
    "import numpy as np\n",
    "import pandas as pd\n",
    "import matplotlib.pyplot as plt\n",
    "import seaborn as sns\n",
    "sns.set_style(\"white\")\n",
    "import scipy.stats as stats\n",
    "%matplotlib inline\n",
    "\n",
    "import itertools\n",
    "\n",
    "import warnings\n",
    "warnings.filterwarnings('ignore')\n",
    "warnings.simplefilter('ignore')\n",
    "\n",
    "import json\n",
    "import math"
   ]
  },
  {
   "cell_type": "markdown",
   "metadata": {},
   "source": [
    "### Load Google Maps Data"
   ]
  },
  {
   "cell_type": "code",
   "execution_count": 3,
   "metadata": {},
   "outputs": [],
   "source": [
    "# Function to extract maps data\n",
    "def js_r(filename):\n",
    "   with open(filename) as f_in:\n",
    "       return(json.load(f_in))"
   ]
  },
  {
   "cell_type": "code",
   "execution_count": 309,
   "metadata": {},
   "outputs": [
    {
     "data": {
      "text/html": [
       "<div>\n",
       "<style scoped>\n",
       "    .dataframe tbody tr th:only-of-type {\n",
       "        vertical-align: middle;\n",
       "    }\n",
       "\n",
       "    .dataframe tbody tr th {\n",
       "        vertical-align: top;\n",
       "    }\n",
       "\n",
       "    .dataframe thead th {\n",
       "        text-align: right;\n",
       "    }\n",
       "</style>\n",
       "<table border=\"1\" class=\"dataframe\">\n",
       "  <thead>\n",
       "    <tr style=\"text-align: right;\">\n",
       "      <th></th>\n",
       "      <th>accuracy</th>\n",
       "      <th>activity</th>\n",
       "      <th>altitude</th>\n",
       "      <th>heading</th>\n",
       "      <th>latitudeE7</th>\n",
       "      <th>longitudeE7</th>\n",
       "      <th>timestampMs</th>\n",
       "      <th>velocity</th>\n",
       "      <th>verticalAccuracy</th>\n",
       "    </tr>\n",
       "  </thead>\n",
       "  <tbody>\n",
       "    <tr>\n",
       "      <th>618993</th>\n",
       "      <td>15</td>\n",
       "      <td>[{'timestampMs': '1569629020489', 'activity': ...</td>\n",
       "      <td>24.0</td>\n",
       "      <td>NaN</td>\n",
       "      <td>-275943325</td>\n",
       "      <td>-485174486</td>\n",
       "      <td>1569629305108</td>\n",
       "      <td>NaN</td>\n",
       "      <td>2.0</td>\n",
       "    </tr>\n",
       "    <tr>\n",
       "      <th>618994</th>\n",
       "      <td>15</td>\n",
       "      <td>[{'timestampMs': '1569629810766', 'activity': ...</td>\n",
       "      <td>24.0</td>\n",
       "      <td>NaN</td>\n",
       "      <td>-275943325</td>\n",
       "      <td>-485174486</td>\n",
       "      <td>1569630205181</td>\n",
       "      <td>NaN</td>\n",
       "      <td>2.0</td>\n",
       "    </tr>\n",
       "    <tr>\n",
       "      <th>618995</th>\n",
       "      <td>15</td>\n",
       "      <td>[{'timestampMs': '1569630454073', 'activity': ...</td>\n",
       "      <td>24.0</td>\n",
       "      <td>NaN</td>\n",
       "      <td>-275943301</td>\n",
       "      <td>-485174428</td>\n",
       "      <td>1569630539687</td>\n",
       "      <td>NaN</td>\n",
       "      <td>2.0</td>\n",
       "    </tr>\n",
       "    <tr>\n",
       "      <th>618996</th>\n",
       "      <td>15</td>\n",
       "      <td>[{'timestampMs': '1569631886667', 'activity': ...</td>\n",
       "      <td>24.0</td>\n",
       "      <td>NaN</td>\n",
       "      <td>-275943301</td>\n",
       "      <td>-485174428</td>\n",
       "      <td>1569631451294</td>\n",
       "      <td>NaN</td>\n",
       "      <td>2.0</td>\n",
       "    </tr>\n",
       "    <tr>\n",
       "      <th>618997</th>\n",
       "      <td>15</td>\n",
       "      <td>NaN</td>\n",
       "      <td>24.0</td>\n",
       "      <td>NaN</td>\n",
       "      <td>-275943301</td>\n",
       "      <td>-485174428</td>\n",
       "      <td>1569632395683</td>\n",
       "      <td>NaN</td>\n",
       "      <td>2.0</td>\n",
       "    </tr>\n",
       "  </tbody>\n",
       "</table>\n",
       "</div>"
      ],
      "text/plain": [
       "        accuracy                                           activity  altitude  \\\n",
       "618993        15  [{'timestampMs': '1569629020489', 'activity': ...      24.0   \n",
       "618994        15  [{'timestampMs': '1569629810766', 'activity': ...      24.0   \n",
       "618995        15  [{'timestampMs': '1569630454073', 'activity': ...      24.0   \n",
       "618996        15  [{'timestampMs': '1569631886667', 'activity': ...      24.0   \n",
       "618997        15                                                NaN      24.0   \n",
       "\n",
       "        heading  latitudeE7  longitudeE7    timestampMs  velocity  \\\n",
       "618993      NaN  -275943325   -485174486  1569629305108       NaN   \n",
       "618994      NaN  -275943325   -485174486  1569630205181       NaN   \n",
       "618995      NaN  -275943301   -485174428  1569630539687       NaN   \n",
       "618996      NaN  -275943301   -485174428  1569631451294       NaN   \n",
       "618997      NaN  -275943301   -485174428  1569632395683       NaN   \n",
       "\n",
       "        verticalAccuracy  \n",
       "618993               2.0  \n",
       "618994               2.0  \n",
       "618995               2.0  \n",
       "618996               2.0  \n",
       "618997               2.0  "
      ]
     },
     "execution_count": 309,
     "metadata": {},
     "output_type": "execute_result"
    }
   ],
   "source": [
    "location_history = js_r('maps_location_history.json')\n",
    "locations = pd.DataFrame(location_history['locations'])\n",
    "locations.tail()"
   ]
  },
  {
   "cell_type": "code",
   "execution_count": 310,
   "metadata": {},
   "outputs": [],
   "source": [
    "#locations.info()"
   ]
  },
  {
   "cell_type": "markdown",
   "metadata": {},
   "source": [
    "### Prepare Activity Data"
   ]
  },
  {
   "cell_type": "code",
   "execution_count": 286,
   "metadata": {},
   "outputs": [],
   "source": [
    "# Extract activity data\n",
    "def get_type(row):\n",
    "    df2 = pd.DataFrame(row)\n",
    "    return df2.loc[df2['confidence'].idxmax()].type\n",
    "\n",
    "def extract_activity(row):\n",
    "    df = pd.DataFrame(row)\n",
    "    act_time = df.timestampMs\n",
    "    act_type = pd.DataFrame(df.activity.apply(lambda x : get_type(x)))\n",
    "    return pd.concat([act_time, act_type], axis=1)\n",
    "\n",
    "def combine_dfs(df, row):\n",
    "    if type(row)==float:\n",
    "        return df\n",
    "    else:\n",
    "        extract = extract_activity(row)\n",
    "        return pd.concat([df,extract], ignore_index=True)\n"
   ]
  },
  {
   "cell_type": "code",
   "execution_count": 298,
   "metadata": {},
   "outputs": [],
   "source": [
    "# Test with 10,000 records\n",
    "tail = locations.activity.tail(10000)"
   ]
  },
  {
   "cell_type": "code",
   "execution_count": 299,
   "metadata": {},
   "outputs": [],
   "source": [
    "# initialize empty df\n",
    "df_act = pd.DataFrame(columns=['timestampMs','activity'])\n",
    "\n",
    "# runs 10,000 records per minute - used most likely activity per stamp\n",
    "for i in range(1,len(tail)):\n",
    "    df_act = combine_dfs(df_act,tail.iloc[i])"
   ]
  },
  {
   "cell_type": "code",
   "execution_count": 302,
   "metadata": {},
   "outputs": [],
   "source": [
    "# Clean df\n",
    "df_act['date'] = pd.to_datetime(df_act['timestampMs'],unit='ms')\n",
    "df_act.drop(['timestampMs'],axis=1,inplace=True)\n",
    "df_act.activity = df_act.activity.astype('category')\n",
    "df_act['week'] = df_act.date.dt.week\n",
    "df_act['month'] = df_act.date.dt.month\n",
    "df_act['weekday'] = df_act.date.dt.weekday\n",
    "df_act['day'] = df_act.date.dt.day\n",
    "df_act['year'] = df_act.date.dt.year\n",
    "df_act.weekday = df_act.weekday.astype(str)\n",
    "df_act.weekday = df_act.weekday.replace({'0':'Monday', '1':'Tuesday', '2':'Wednesday', '3':'Thursday', '4':'Friday', '5':'Saturday', '6':'Sunday'})\n",
    "df_act.weekday = df_act.weekday.astype('category')"
   ]
  },
  {
   "cell_type": "code",
   "execution_count": 382,
   "metadata": {},
   "outputs": [],
   "source": []
  },
  {
   "cell_type": "code",
   "execution_count": 389,
   "metadata": {},
   "outputs": [],
   "source": []
  },
  {
   "cell_type": "code",
   "execution_count": 411,
   "metadata": {},
   "outputs": [],
   "source": [
    "df_activity = df_act.copy()"
   ]
  },
  {
   "cell_type": "markdown",
   "metadata": {},
   "source": [
    "### Explore Activity Data"
   ]
  },
  {
   "cell_type": "code",
   "execution_count": 412,
   "metadata": {},
   "outputs": [
    {
     "name": "stdout",
     "output_type": "stream",
     "text": [
      "<class 'pandas.core.frame.DataFrame'>\n",
      "RangeIndex: 23724 entries, 0 to 23723\n",
      "Data columns (total 7 columns):\n",
      "activity    23724 non-null category\n",
      "date        23724 non-null datetime64[ns]\n",
      "week        23724 non-null int64\n",
      "month       23724 non-null int64\n",
      "weekday     23724 non-null category\n",
      "day         23724 non-null int64\n",
      "year        23724 non-null int64\n",
      "dtypes: category(2), datetime64[ns](1), int64(4)\n",
      "memory usage: 973.9 KB\n"
     ]
    }
   ],
   "source": [
    "df_activity.info()"
   ]
  },
  {
   "cell_type": "code",
   "execution_count": 416,
   "metadata": {},
   "outputs": [
    {
     "data": {
      "text/html": [
       "<div>\n",
       "<style scoped>\n",
       "    .dataframe tbody tr th:only-of-type {\n",
       "        vertical-align: middle;\n",
       "    }\n",
       "\n",
       "    .dataframe tbody tr th {\n",
       "        vertical-align: top;\n",
       "    }\n",
       "\n",
       "    .dataframe thead th {\n",
       "        text-align: right;\n",
       "    }\n",
       "</style>\n",
       "<table border=\"1\" class=\"dataframe\">\n",
       "  <thead>\n",
       "    <tr style=\"text-align: right;\">\n",
       "      <th></th>\n",
       "      <th>activity</th>\n",
       "      <th>date</th>\n",
       "      <th>week</th>\n",
       "      <th>month</th>\n",
       "      <th>weekday</th>\n",
       "      <th>day</th>\n",
       "      <th>year</th>\n",
       "    </tr>\n",
       "  </thead>\n",
       "  <tbody>\n",
       "    <tr>\n",
       "      <th>0</th>\n",
       "      <td>TILTING</td>\n",
       "      <td>2019-07-27 18:48:08.547</td>\n",
       "      <td>30</td>\n",
       "      <td>7</td>\n",
       "      <td>Saturday</td>\n",
       "      <td>27</td>\n",
       "      <td>2019</td>\n",
       "    </tr>\n",
       "    <tr>\n",
       "      <th>1</th>\n",
       "      <td>STILL</td>\n",
       "      <td>2019-07-27 18:48:38.051</td>\n",
       "      <td>30</td>\n",
       "      <td>7</td>\n",
       "      <td>Saturday</td>\n",
       "      <td>27</td>\n",
       "      <td>2019</td>\n",
       "    </tr>\n",
       "    <tr>\n",
       "      <th>2</th>\n",
       "      <td>TILTING</td>\n",
       "      <td>2019-07-27 18:49:04.508</td>\n",
       "      <td>30</td>\n",
       "      <td>7</td>\n",
       "      <td>Saturday</td>\n",
       "      <td>27</td>\n",
       "      <td>2019</td>\n",
       "    </tr>\n",
       "    <tr>\n",
       "      <th>3</th>\n",
       "      <td>STILL</td>\n",
       "      <td>2019-07-27 18:49:17.503</td>\n",
       "      <td>30</td>\n",
       "      <td>7</td>\n",
       "      <td>Saturday</td>\n",
       "      <td>27</td>\n",
       "      <td>2019</td>\n",
       "    </tr>\n",
       "    <tr>\n",
       "      <th>4</th>\n",
       "      <td>UNKNOWN</td>\n",
       "      <td>2019-07-27 18:49:59.898</td>\n",
       "      <td>30</td>\n",
       "      <td>7</td>\n",
       "      <td>Saturday</td>\n",
       "      <td>27</td>\n",
       "      <td>2019</td>\n",
       "    </tr>\n",
       "  </tbody>\n",
       "</table>\n",
       "</div>"
      ],
      "text/plain": [
       "  activity                    date  week  month   weekday  day  year\n",
       "0  TILTING 2019-07-27 18:48:08.547    30      7  Saturday   27  2019\n",
       "1    STILL 2019-07-27 18:48:38.051    30      7  Saturday   27  2019\n",
       "2  TILTING 2019-07-27 18:49:04.508    30      7  Saturday   27  2019\n",
       "3    STILL 2019-07-27 18:49:17.503    30      7  Saturday   27  2019\n",
       "4  UNKNOWN 2019-07-27 18:49:59.898    30      7  Saturday   27  2019"
      ]
     },
     "execution_count": 416,
     "metadata": {},
     "output_type": "execute_result"
    }
   ],
   "source": [
    "df_activity.head()"
   ]
  },
  {
   "cell_type": "code",
   "execution_count": 419,
   "metadata": {},
   "outputs": [],
   "source": [
    "df_activity = df_activity.drop(df_activity[df_activity.activity.isin(['ON_BICYCLE','EXITING_VEHICLE','UNKNOWN','TILTING'])].index)"
   ]
  },
  {
   "cell_type": "code",
   "execution_count": 420,
   "metadata": {},
   "outputs": [],
   "source": [
    "activity_by_dow = df_activity.groupby('weekday').activity.value_counts()"
   ]
  },
  {
   "cell_type": "code",
   "execution_count": 421,
   "metadata": {},
   "outputs": [
    {
     "data": {
      "image/png": "[encoded data removed]",
      "text/plain": [
       "<Figure size 432x288 with 1 Axes>"
      ]
     },
     "metadata": {},
     "output_type": "display_data"
    },
    {
     "data": {
      "image/png": "[encoded data removed]",
      "text/plain": [
       "<Figure size 432x288 with 1 Axes>"
      ]
     },
     "metadata": {},
     "output_type": "display_data"
    },
    {
     "data": {
      "image/png": "[encoded data removed]",
      "text/plain": [
       "<Figure size 432x288 with 1 Axes>"
      ]
     },
     "metadata": {},
     "output_type": "display_data"
    },
    {
     "data": {
      "image/png": "[encoded data removed]",
      "text/plain": [
       "<Figure size 432x288 with 1 Axes>"
      ]
     },
     "metadata": {},
     "output_type": "display_data"
    },
    {
     "data": {
      "image/png": "[encoded data removed]",
      "text/plain": [
       "<Figure size 432x288 with 1 Axes>"
      ]
     },
     "metadata": {},
     "output_type": "display_data"
    },
    {
     "data": {
      "image/png": "[encoded data removed]",
      "text/plain": [
       "<Figure size 432x288 with 1 Axes>"
      ]
     },
     "metadata": {},
     "output_type": "display_data"
    },
    {
     "data": {
      "image/png": "[encoded data removed]",
      "text/plain": [
       "<Figure size 432x288 with 1 Axes>"
      ]
     },
     "metadata": {},
     "output_type": "display_data"
    }
   ],
   "source": [
    "dow = list(df_activity.weekday.unique())\n",
    "\n",
    "for day in dow:\n",
    "    \n",
    "    ax = plt.subplot()\n",
    "    activity_by_dow[day].plot(kind='pie')\n",
    "\n",
    "    plt.title(day)\n",
    "    plt.show()   "
   ]
  },
  {
   "cell_type": "code",
   "execution_count": null,
   "metadata": {},
   "outputs": [],
   "source": []
  },
  {
   "cell_type": "code",
   "execution_count": null,
   "metadata": {},
   "outputs": [],
   "source": []
  },
  {
   "cell_type": "code",
   "execution_count": null,
   "metadata": {},
   "outputs": [],
   "source": []
  },
  {
   "cell_type": "code",
   "execution_count": null,
   "metadata": {},
   "outputs": [],
   "source": []
  },
  {
   "cell_type": "code",
   "execution_count": null,
   "metadata": {},
   "outputs": [],
   "source": []
  },
  {
   "cell_type": "code",
   "execution_count": null,
   "metadata": {},
   "outputs": [],
   "source": []
  },
  {
   "cell_type": "code",
   "execution_count": 315,
   "metadata": {},
   "outputs": [],
   "source": []
  },
  {
   "cell_type": "code",
   "execution_count": 314,
   "metadata": {},
   "outputs": [],
   "source": []
  },
  {
   "cell_type": "code",
   "execution_count": null,
   "metadata": {},
   "outputs": [],
   "source": []
  },
  {
   "cell_type": "markdown",
   "metadata": {},
   "source": [
    "### Prepare Time-Location Data"
   ]
  },
  {
   "cell_type": "code",
   "execution_count": 312,
   "metadata": {},
   "outputs": [],
   "source": [
    "timespace = locations[['latitudeE7','longitudeE7','timestampMs']]"
   ]
  },
  {
   "cell_type": "code",
   "execution_count": 313,
   "metadata": {},
   "outputs": [],
   "source": [
    "timespace['date'] = pd.to_datetime(timespace['timestampMs'],unit='ms')\n",
    "timespace.rename(columns={\"longitudeE7\":\"long\",\"latitudeE7\":\"lat\"}, inplace=True)\n",
    "timespace = timespace[['date','lat','long']]\n",
    "timespace.lat = timespace.lat.apply(lambda x : x/1e7)\n",
    "timespace.long = timespace.long.apply(lambda x : x/1e7)"
   ]
  },
  {
   "cell_type": "code",
   "execution_count": 418,
   "metadata": {},
   "outputs": [
    {
     "data": {
      "text/html": [
       "<div>\n",
       "<style scoped>\n",
       "    .dataframe tbody tr th:only-of-type {\n",
       "        vertical-align: middle;\n",
       "    }\n",
       "\n",
       "    .dataframe tbody tr th {\n",
       "        vertical-align: top;\n",
       "    }\n",
       "\n",
       "    .dataframe thead th {\n",
       "        text-align: right;\n",
       "    }\n",
       "</style>\n",
       "<table border=\"1\" class=\"dataframe\">\n",
       "  <thead>\n",
       "    <tr style=\"text-align: right;\">\n",
       "      <th></th>\n",
       "      <th>date</th>\n",
       "      <th>lat</th>\n",
       "      <th>long</th>\n",
       "    </tr>\n",
       "  </thead>\n",
       "  <tbody>\n",
       "    <tr>\n",
       "      <th>0</th>\n",
       "      <td>2014-05-12 19:39:24.021</td>\n",
       "      <td>53.532108</td>\n",
       "      <td>-113.961557</td>\n",
       "    </tr>\n",
       "    <tr>\n",
       "      <th>1</th>\n",
       "      <td>2014-08-23 01:25:35.137</td>\n",
       "      <td>-27.612048</td>\n",
       "      <td>-48.582699</td>\n",
       "    </tr>\n",
       "    <tr>\n",
       "      <th>2</th>\n",
       "      <td>2014-12-27 22:39:46.266</td>\n",
       "      <td>53.531931</td>\n",
       "      <td>-113.961383</td>\n",
       "    </tr>\n",
       "    <tr>\n",
       "      <th>3</th>\n",
       "      <td>2015-04-22 01:59:27.950</td>\n",
       "      <td>-27.612014</td>\n",
       "      <td>-48.583035</td>\n",
       "    </tr>\n",
       "    <tr>\n",
       "      <th>4</th>\n",
       "      <td>2015-04-22 02:15:21.160</td>\n",
       "      <td>-27.575069</td>\n",
       "      <td>-48.531032</td>\n",
       "    </tr>\n",
       "  </tbody>\n",
       "</table>\n",
       "</div>"
      ],
      "text/plain": [
       "                     date        lat        long\n",
       "0 2014-05-12 19:39:24.021  53.532108 -113.961557\n",
       "1 2014-08-23 01:25:35.137 -27.612048  -48.582699\n",
       "2 2014-12-27 22:39:46.266  53.531931 -113.961383\n",
       "3 2015-04-22 01:59:27.950 -27.612014  -48.583035\n",
       "4 2015-04-22 02:15:21.160 -27.575069  -48.531032"
      ]
     },
     "execution_count": 418,
     "metadata": {},
     "output_type": "execute_result"
    }
   ],
   "source": [
    "timespace.head()"
   ]
  },
  {
   "cell_type": "code",
   "execution_count": 434,
   "metadata": {},
   "outputs": [
    {
     "name": "stdout",
     "output_type": "stream",
     "text": [
      "<class 'pandas.core.frame.DataFrame'>\n",
      "RangeIndex: 618998 entries, 0 to 618997\n",
      "Data columns (total 3 columns):\n",
      "date    618998 non-null datetime64[ns]\n",
      "lat     618998 non-null float64\n",
      "long    618998 non-null float64\n",
      "dtypes: datetime64[ns](1), float64(2)\n",
      "memory usage: 14.2 MB\n"
     ]
    }
   ],
   "source": [
    "timespace.info()"
   ]
  },
  {
   "cell_type": "code",
   "execution_count": null,
   "metadata": {},
   "outputs": [],
   "source": []
  },
  {
   "cell_type": "code",
   "execution_count": null,
   "metadata": {},
   "outputs": [],
   "source": []
  },
  {
   "cell_type": "code",
   "execution_count": null,
   "metadata": {},
   "outputs": [],
   "source": []
  },
  {
   "cell_type": "code",
   "execution_count": null,
   "metadata": {},
   "outputs": [],
   "source": []
  },
  {
   "cell_type": "code",
   "execution_count": null,
   "metadata": {},
   "outputs": [],
   "source": []
  },
  {
   "cell_type": "code",
   "execution_count": null,
   "metadata": {},
   "outputs": [],
   "source": []
  },
  {
   "cell_type": "code",
   "execution_count": null,
   "metadata": {},
   "outputs": [],
   "source": []
  },
  {
   "cell_type": "code",
   "execution_count": null,
   "metadata": {},
   "outputs": [],
   "source": []
  }
 ],
 "metadata": {
  "kernelspec": {
   "display_name": "Python 3",
   "language": "python",
   "name": "python3"
  },
  "language_info": {
   "codemirror_mode": {
    "name": "ipython",
    "version": 3
   },
   "file_extension": ".py",
   "mimetype": "text/x-python",
   "name": "python",
   "nbconvert_exporter": "python",
   "pygments_lexer": "ipython3",
   "version": "3.7.2rc1"
  }
 },
 "nbformat": 4,
 "nbformat_minor": 2
}
