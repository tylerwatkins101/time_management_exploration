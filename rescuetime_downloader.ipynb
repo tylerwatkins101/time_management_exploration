{
 "cells": [
  {
   "cell_type": "markdown",
   "metadata": {},
   "source": [
    "# RescueTime Downloader"
   ]
  },
  {
   "cell_type": "markdown",
   "metadata": {},
   "source": [
    "Code to collect and export RescueTime Activity Logs, includes options to collect in hourly or minute bins. Default is hourly.\n",
    "\n",
    "**NOTE:** Collecting Full History takes some time, depending how many years of data you have. I recommend you configure the script below to pull data in yearly chunks, though it should work if you attempt to export full history. "
   ]
  },
  {
   "cell_type": "markdown",
   "metadata": {},
   "source": [
    "------"
   ]
  },
  {
   "cell_type": "markdown",
   "metadata": {},
   "source": [
    "## Setup and Installation"
   ]
  },
  {
   "cell_type": "markdown",
   "metadata": {},
   "source": [
    "* Go to [RescueTime API](https://www.rescuetime.com/anapi/manage) and copy an API Key \n",
    "* Copy credentials-sample.json to create credentials.json and add your RescueTime Key.\n",
    "* This project depends on no additional code besides standard python libraries and Pandas. "
   ]
  },
  {
   "cell_type": "markdown",
   "metadata": {},
   "source": [
    "-----"
   ]
  },
  {
   "cell_type": "markdown",
   "metadata": {},
   "source": [
    "## Dependencies"
   ]
  },
  {
   "cell_type": "code",
   "execution_count": 80,
   "metadata": {},
   "outputs": [],
   "source": [
    "import requests\n",
    "import os\n",
    "from datetime import date, datetime, timedelta as td\n",
    "import pandas as pd"
   ]
  },
  {
   "cell_type": "markdown",
   "metadata": {},
   "source": [
    "----"
   ]
  },
  {
   "cell_type": "markdown",
   "metadata": {},
   "source": [
    "## Credentials"
   ]
  },
  {
   "cell_type": "code",
   "execution_count": 81,
   "metadata": {},
   "outputs": [],
   "source": [
    "import json\n",
    "\n",
    "with open(\"credentials.json\", \"r\") as file:\n",
    "    credentials = json.load(file)\n",
    "    rescuetime_cr = credentials['rescuetime']\n",
    "    KEY = rescuetime_cr['KEY']"
   ]
  },
  {
   "cell_type": "code",
   "execution_count": 82,
   "metadata": {},
   "outputs": [],
   "source": [
    "baseurl = 'https://www.rescuetime.com/anapi/data?key='"
   ]
  },
  {
   "cell_type": "code",
   "execution_count": 83,
   "metadata": {},
   "outputs": [],
   "source": [
    "url =  baseurl + KEY"
   ]
  },
  {
   "cell_type": "markdown",
   "metadata": {},
   "source": [
    "----"
   ]
  },
  {
   "cell_type": "markdown",
   "metadata": {},
   "source": [
    "## Export Dates Configuration"
   ]
  },
  {
   "cell_type": "code",
   "execution_count": 87,
   "metadata": {},
   "outputs": [],
   "source": [
    "# Configure These to Your Preferred Dates\n",
    "start_date = '2019-11-04'  # Start date for data\n",
    "end_date   = '2019-11-07'  # End date for data"
   ]
  },
  {
   "cell_type": "markdown",
   "metadata": {},
   "source": [
    "------"
   ]
  },
  {
   "cell_type": "markdown",
   "metadata": {},
   "source": [
    "## Function to Get RescueTime Activities"
   ]
  },
  {
   "cell_type": "code",
   "execution_count": 85,
   "metadata": {},
   "outputs": [],
   "source": [
    "# Adjustable by Time Period\n",
    "def rescuetime_get_activities(start_date, end_date, resolution='hour'):\n",
    "    # Configuration for Query\n",
    "    # SEE: https://www.rescuetime.com/apidoc\n",
    "    payload = {\n",
    "        'perspective':'interval',\n",
    "        'resolution_time': resolution, #1 of \"month\", \"week\", \"day\", \"hour\", \"minute\"\n",
    "        'restrict_kind':'document',\n",
    "        'restrict_begin': start_date,\n",
    "        'restrict_end': end_date,\n",
    "        'format':'json' #csv\n",
    "    }\n",
    "    \n",
    "    # Setup Iteration - by Day\n",
    "    d1 = datetime.strptime(payload['restrict_begin'], \"%Y-%m-%d\").date()\n",
    "    d2 = datetime.strptime(payload['restrict_end'], \"%Y-%m-%d\").date()\n",
    "    delta = d2 - d1\n",
    "    \n",
    "    activities_list = []\n",
    "    \n",
    "    # Iterate through the days, making a request per day\n",
    "    for i in range(delta.days + 1):\n",
    "        # Find iter date and set begin and end values to this to extract at once.\n",
    "        d3 = d1 + td(days=i) # Add a day\n",
    "        if d3.day == 1: print('Pulling Monthly Data for ', d3)\n",
    "\n",
    "        # Update the Payload\n",
    "        payload['restrict_begin'] = str(d3) # Set payload days to current\n",
    "        payload['restrict_end'] = str(d3)   # Set payload days to current\n",
    "\n",
    "        # Request\n",
    "        try: \n",
    "            r = requests.get(url, payload) # Make Request\n",
    "            iter_result = r.json() # Parse result\n",
    "            # print(\"Collecting Activities for \" + str(d3))\n",
    "        except: \n",
    "            print(\"Error collecting data for \" + str(d3))\n",
    "    \n",
    "        for i in iter_result['rows']:\n",
    "            activities_list.append(i)\n",
    "            \n",
    "    return activities_list"
   ]
  },
  {
   "cell_type": "markdown",
   "metadata": {},
   "source": [
    "---"
   ]
  },
  {
   "cell_type": "markdown",
   "metadata": {},
   "source": [
    "## Collect Report of Activites By Day"
   ]
  },
  {
   "cell_type": "code",
   "execution_count": null,
   "metadata": {},
   "outputs": [],
   "source": []
  },
  {
   "cell_type": "code",
   "execution_count": 86,
   "metadata": {},
   "outputs": [
    {
     "name": "stdout",
     "output_type": "stream",
     "text": [
      "Error collecting data for 2019-11-04\n"
     ]
    },
    {
     "ename": "UnboundLocalError",
     "evalue": "local variable 'iter_result' referenced before assignment",
     "output_type": "error",
     "traceback": [
      "\u001b[1;31m---------------------------------------------------------------------------\u001b[0m",
      "\u001b[1;31mUnboundLocalError\u001b[0m                         Traceback (most recent call last)",
      "\u001b[1;32m<ipython-input-86-57e22d2d8d00>\u001b[0m in \u001b[0;36m<module>\u001b[1;34m\u001b[0m\n\u001b[1;32m----> 1\u001b[1;33m \u001b[0mactivities_day_log\u001b[0m \u001b[1;33m=\u001b[0m \u001b[0mrescuetime_get_activities\u001b[0m\u001b[1;33m(\u001b[0m\u001b[0mstart_date\u001b[0m\u001b[1;33m,\u001b[0m \u001b[0mend_date\u001b[0m\u001b[1;33m,\u001b[0m \u001b[1;34m'day'\u001b[0m\u001b[1;33m)\u001b[0m\u001b[1;33m\u001b[0m\u001b[1;33m\u001b[0m\u001b[0m\n\u001b[0m",
      "\u001b[1;32m<ipython-input-85-04117b9ef034>\u001b[0m in \u001b[0;36mrescuetime_get_activities\u001b[1;34m(start_date, end_date, resolution)\u001b[0m\n\u001b[0;32m     38\u001b[0m             \u001b[0mprint\u001b[0m\u001b[1;33m(\u001b[0m\u001b[1;34m\"Error collecting data for \"\u001b[0m \u001b[1;33m+\u001b[0m \u001b[0mstr\u001b[0m\u001b[1;33m(\u001b[0m\u001b[0md3\u001b[0m\u001b[1;33m)\u001b[0m\u001b[1;33m)\u001b[0m\u001b[1;33m\u001b[0m\u001b[1;33m\u001b[0m\u001b[0m\n\u001b[0;32m     39\u001b[0m \u001b[1;33m\u001b[0m\u001b[0m\n\u001b[1;32m---> 40\u001b[1;33m         \u001b[1;32mfor\u001b[0m \u001b[0mi\u001b[0m \u001b[1;32min\u001b[0m \u001b[0miter_result\u001b[0m\u001b[1;33m[\u001b[0m\u001b[1;34m'rows'\u001b[0m\u001b[1;33m]\u001b[0m\u001b[1;33m:\u001b[0m\u001b[1;33m\u001b[0m\u001b[1;33m\u001b[0m\u001b[0m\n\u001b[0m\u001b[0;32m     41\u001b[0m             \u001b[0mactivities_list\u001b[0m\u001b[1;33m.\u001b[0m\u001b[0mappend\u001b[0m\u001b[1;33m(\u001b[0m\u001b[0mi\u001b[0m\u001b[1;33m)\u001b[0m\u001b[1;33m\u001b[0m\u001b[1;33m\u001b[0m\u001b[0m\n\u001b[0;32m     42\u001b[0m \u001b[1;33m\u001b[0m\u001b[0m\n",
      "\u001b[1;31mUnboundLocalError\u001b[0m: local variable 'iter_result' referenced before assignment"
     ]
    }
   ],
   "source": [
    "activities_day_log = rescuetime_get_activities(start_date, end_date, 'day')"
   ]
  },
  {
   "cell_type": "code",
   "execution_count": 68,
   "metadata": {},
   "outputs": [],
   "source": [
    "activities_daily = pd.DataFrame.from_dict(activities_day_log)"
   ]
  },
  {
   "cell_type": "code",
   "execution_count": 69,
   "metadata": {},
   "outputs": [
    {
     "name": "stdout",
     "output_type": "stream",
     "text": [
      "<class 'pandas.core.frame.DataFrame'>\n",
      "RangeIndex: 246 entries, 0 to 245\n",
      "Data columns (total 7 columns):\n",
      "0    246 non-null object\n",
      "1    246 non-null int64\n",
      "2    246 non-null int64\n",
      "3    246 non-null object\n",
      "4    246 non-null object\n",
      "5    246 non-null object\n",
      "6    246 non-null int64\n",
      "dtypes: int64(3), object(4)\n",
      "memory usage: 13.5+ KB\n"
     ]
    }
   ],
   "source": [
    "activities_daily.info()"
   ]
  },
  {
   "cell_type": "code",
   "execution_count": 63,
   "metadata": {},
   "outputs": [
    {
     "data": {
      "text/html": [
       "<div>\n",
       "<style scoped>\n",
       "    .dataframe tbody tr th:only-of-type {\n",
       "        vertical-align: middle;\n",
       "    }\n",
       "\n",
       "    .dataframe tbody tr th {\n",
       "        vertical-align: top;\n",
       "    }\n",
       "\n",
       "    .dataframe thead th {\n",
       "        text-align: right;\n",
       "    }\n",
       "</style>\n",
       "<table border=\"1\" class=\"dataframe\">\n",
       "  <thead>\n",
       "    <tr style=\"text-align: right;\">\n",
       "      <th></th>\n",
       "      <th>1</th>\n",
       "      <th>2</th>\n",
       "      <th>6</th>\n",
       "    </tr>\n",
       "  </thead>\n",
       "  <tbody>\n",
       "    <tr>\n",
       "      <th>count</th>\n",
       "      <td>246.000000</td>\n",
       "      <td>246.0</td>\n",
       "      <td>246.000000</td>\n",
       "    </tr>\n",
       "    <tr>\n",
       "      <th>mean</th>\n",
       "      <td>103.597561</td>\n",
       "      <td>1.0</td>\n",
       "      <td>0.934959</td>\n",
       "    </tr>\n",
       "    <tr>\n",
       "      <th>std</th>\n",
       "      <td>295.260336</td>\n",
       "      <td>0.0</td>\n",
       "      <td>1.100945</td>\n",
       "    </tr>\n",
       "    <tr>\n",
       "      <th>min</th>\n",
       "      <td>1.000000</td>\n",
       "      <td>1.0</td>\n",
       "      <td>-2.000000</td>\n",
       "    </tr>\n",
       "    <tr>\n",
       "      <th>25%</th>\n",
       "      <td>3.000000</td>\n",
       "      <td>1.0</td>\n",
       "      <td>0.000000</td>\n",
       "    </tr>\n",
       "    <tr>\n",
       "      <th>50%</th>\n",
       "      <td>9.500000</td>\n",
       "      <td>1.0</td>\n",
       "      <td>1.000000</td>\n",
       "    </tr>\n",
       "    <tr>\n",
       "      <th>75%</th>\n",
       "      <td>41.750000</td>\n",
       "      <td>1.0</td>\n",
       "      <td>2.000000</td>\n",
       "    </tr>\n",
       "    <tr>\n",
       "      <th>max</th>\n",
       "      <td>2288.000000</td>\n",
       "      <td>1.0</td>\n",
       "      <td>2.000000</td>\n",
       "    </tr>\n",
       "  </tbody>\n",
       "</table>\n",
       "</div>"
      ],
      "text/plain": [
       "                 1      2           6\n",
       "count   246.000000  246.0  246.000000\n",
       "mean    103.597561    1.0    0.934959\n",
       "std     295.260336    0.0    1.100945\n",
       "min       1.000000    1.0   -2.000000\n",
       "25%       3.000000    1.0    0.000000\n",
       "50%       9.500000    1.0    1.000000\n",
       "75%      41.750000    1.0    2.000000\n",
       "max    2288.000000    1.0    2.000000"
      ]
     },
     "execution_count": 63,
     "metadata": {},
     "output_type": "execute_result"
    }
   ],
   "source": [
    "activities_daily.describe()"
   ]
  },
  {
   "cell_type": "code",
   "execution_count": 64,
   "metadata": {},
   "outputs": [
    {
     "data": {
      "text/html": [
       "<div>\n",
       "<style scoped>\n",
       "    .dataframe tbody tr th:only-of-type {\n",
       "        vertical-align: middle;\n",
       "    }\n",
       "\n",
       "    .dataframe tbody tr th {\n",
       "        vertical-align: top;\n",
       "    }\n",
       "\n",
       "    .dataframe thead th {\n",
       "        text-align: right;\n",
       "    }\n",
       "</style>\n",
       "<table border=\"1\" class=\"dataframe\">\n",
       "  <thead>\n",
       "    <tr style=\"text-align: right;\">\n",
       "      <th></th>\n",
       "      <th>0</th>\n",
       "      <th>1</th>\n",
       "      <th>2</th>\n",
       "      <th>3</th>\n",
       "      <th>4</th>\n",
       "      <th>5</th>\n",
       "      <th>6</th>\n",
       "    </tr>\n",
       "  </thead>\n",
       "  <tbody>\n",
       "    <tr>\n",
       "      <th>241</th>\n",
       "      <td>2019-11-06T00:00:00</td>\n",
       "      <td>1</td>\n",
       "      <td>1</td>\n",
       "      <td>Windows Explorer</td>\n",
       "      <td>2. Homework</td>\n",
       "      <td>General Utilities</td>\n",
       "      <td>1</td>\n",
       "    </tr>\n",
       "    <tr>\n",
       "      <th>242</th>\n",
       "      <td>2019-11-06T00:00:00</td>\n",
       "      <td>1</td>\n",
       "      <td>1</td>\n",
       "      <td>rescuetime.com</td>\n",
       "      <td>No Details</td>\n",
       "      <td>Intelligence</td>\n",
       "      <td>2</td>\n",
       "    </tr>\n",
       "    <tr>\n",
       "      <th>243</th>\n",
       "      <td>2019-11-06T00:00:00</td>\n",
       "      <td>1</td>\n",
       "      <td>1</td>\n",
       "      <td>accounts.google.com</td>\n",
       "      <td>https://accounts.google.com/signin/oauth/conse...</td>\n",
       "      <td>General Communication &amp; Scheduling</td>\n",
       "      <td>0</td>\n",
       "    </tr>\n",
       "    <tr>\n",
       "      <th>244</th>\n",
       "      <td>2019-11-06T00:00:00</td>\n",
       "      <td>1</td>\n",
       "      <td>1</td>\n",
       "      <td>Windows Explorer</td>\n",
       "      <td>100% complete</td>\n",
       "      <td>General Utilities</td>\n",
       "      <td>1</td>\n",
       "    </tr>\n",
       "    <tr>\n",
       "      <th>245</th>\n",
       "      <td>2019-11-06T00:00:00</td>\n",
       "      <td>1</td>\n",
       "      <td>1</td>\n",
       "      <td>linkedin.com</td>\n",
       "      <td>No Details</td>\n",
       "      <td>Professional Networking</td>\n",
       "      <td>1</td>\n",
       "    </tr>\n",
       "  </tbody>\n",
       "</table>\n",
       "</div>"
      ],
      "text/plain": [
       "                       0  1  2                    3  \\\n",
       "241  2019-11-06T00:00:00  1  1     Windows Explorer   \n",
       "242  2019-11-06T00:00:00  1  1       rescuetime.com   \n",
       "243  2019-11-06T00:00:00  1  1  accounts.google.com   \n",
       "244  2019-11-06T00:00:00  1  1     Windows Explorer   \n",
       "245  2019-11-06T00:00:00  1  1         linkedin.com   \n",
       "\n",
       "                                                     4  \\\n",
       "241                                        2. Homework   \n",
       "242                                         No Details   \n",
       "243  https://accounts.google.com/signin/oauth/conse...   \n",
       "244                                      100% complete   \n",
       "245                                         No Details   \n",
       "\n",
       "                                      5  6  \n",
       "241                   General Utilities  1  \n",
       "242                        Intelligence  2  \n",
       "243  General Communication & Scheduling  0  \n",
       "244                   General Utilities  1  \n",
       "245             Professional Networking  1  "
      ]
     },
     "execution_count": 64,
     "metadata": {},
     "output_type": "execute_result"
    }
   ],
   "source": [
    "activities_daily.tail()"
   ]
  },
  {
   "cell_type": "markdown",
   "metadata": {},
   "source": [
    "----"
   ]
  },
  {
   "cell_type": "markdown",
   "metadata": {},
   "source": [
    "## Collect Report of Activites By Hour"
   ]
  },
  {
   "cell_type": "code",
   "execution_count": 48,
   "metadata": {},
   "outputs": [],
   "source": [
    "activities_hour_log = rescuetime_get_activities(start_date, end_date, 'hour')"
   ]
  },
  {
   "cell_type": "code",
   "execution_count": 49,
   "metadata": {},
   "outputs": [],
   "source": [
    "activities_hourly = pd.DataFrame.from_dict(activities_hour_log)"
   ]
  },
  {
   "cell_type": "code",
   "execution_count": 50,
   "metadata": {},
   "outputs": [],
   "source": [
    "activities_hourly.columns = ['Date', 'Seconds', 'NumberPeople', 'Actitivity', 'Document', 'Category', 'Productivity']"
   ]
  },
  {
   "cell_type": "code",
   "execution_count": 51,
   "metadata": {},
   "outputs": [
    {
     "name": "stdout",
     "output_type": "stream",
     "text": [
      "<class 'pandas.core.frame.DataFrame'>\n",
      "RangeIndex: 361 entries, 0 to 360\n",
      "Data columns (total 7 columns):\n",
      "Date            361 non-null object\n",
      "Seconds         361 non-null int64\n",
      "NumberPeople    361 non-null int64\n",
      "Actitivity      361 non-null object\n",
      "Document        361 non-null object\n",
      "Category        361 non-null object\n",
      "Productivity    361 non-null int64\n",
      "dtypes: int64(3), object(4)\n",
      "memory usage: 19.8+ KB\n"
     ]
    }
   ],
   "source": [
    "activities_hourly.info()"
   ]
  },
  {
   "cell_type": "code",
   "execution_count": 52,
   "metadata": {},
   "outputs": [
    {
     "data": {
      "text/html": [
       "<div>\n",
       "<style scoped>\n",
       "    .dataframe tbody tr th:only-of-type {\n",
       "        vertical-align: middle;\n",
       "    }\n",
       "\n",
       "    .dataframe tbody tr th {\n",
       "        vertical-align: top;\n",
       "    }\n",
       "\n",
       "    .dataframe thead th {\n",
       "        text-align: right;\n",
       "    }\n",
       "</style>\n",
       "<table border=\"1\" class=\"dataframe\">\n",
       "  <thead>\n",
       "    <tr style=\"text-align: right;\">\n",
       "      <th></th>\n",
       "      <th>Seconds</th>\n",
       "      <th>NumberPeople</th>\n",
       "      <th>Productivity</th>\n",
       "    </tr>\n",
       "  </thead>\n",
       "  <tbody>\n",
       "    <tr>\n",
       "      <th>count</th>\n",
       "      <td>361.000000</td>\n",
       "      <td>361.0</td>\n",
       "      <td>361.000000</td>\n",
       "    </tr>\n",
       "    <tr>\n",
       "      <th>mean</th>\n",
       "      <td>70.595568</td>\n",
       "      <td>1.0</td>\n",
       "      <td>0.975069</td>\n",
       "    </tr>\n",
       "    <tr>\n",
       "      <th>std</th>\n",
       "      <td>209.840793</td>\n",
       "      <td>0.0</td>\n",
       "      <td>1.088801</td>\n",
       "    </tr>\n",
       "    <tr>\n",
       "      <th>min</th>\n",
       "      <td>1.000000</td>\n",
       "      <td>1.0</td>\n",
       "      <td>-2.000000</td>\n",
       "    </tr>\n",
       "    <tr>\n",
       "      <th>25%</th>\n",
       "      <td>3.000000</td>\n",
       "      <td>1.0</td>\n",
       "      <td>0.000000</td>\n",
       "    </tr>\n",
       "    <tr>\n",
       "      <th>50%</th>\n",
       "      <td>8.000000</td>\n",
       "      <td>1.0</td>\n",
       "      <td>1.000000</td>\n",
       "    </tr>\n",
       "    <tr>\n",
       "      <th>75%</th>\n",
       "      <td>34.000000</td>\n",
       "      <td>1.0</td>\n",
       "      <td>2.000000</td>\n",
       "    </tr>\n",
       "    <tr>\n",
       "      <th>max</th>\n",
       "      <td>2075.000000</td>\n",
       "      <td>1.0</td>\n",
       "      <td>2.000000</td>\n",
       "    </tr>\n",
       "  </tbody>\n",
       "</table>\n",
       "</div>"
      ],
      "text/plain": [
       "           Seconds  NumberPeople  Productivity\n",
       "count   361.000000         361.0    361.000000\n",
       "mean     70.595568           1.0      0.975069\n",
       "std     209.840793           0.0      1.088801\n",
       "min       1.000000           1.0     -2.000000\n",
       "25%       3.000000           1.0      0.000000\n",
       "50%       8.000000           1.0      1.000000\n",
       "75%      34.000000           1.0      2.000000\n",
       "max    2075.000000           1.0      2.000000"
      ]
     },
     "execution_count": 52,
     "metadata": {},
     "output_type": "execute_result"
    }
   ],
   "source": [
    "activities_hourly.describe()"
   ]
  },
  {
   "cell_type": "code",
   "execution_count": 53,
   "metadata": {},
   "outputs": [
    {
     "data": {
      "text/html": [
       "<div>\n",
       "<style scoped>\n",
       "    .dataframe tbody tr th:only-of-type {\n",
       "        vertical-align: middle;\n",
       "    }\n",
       "\n",
       "    .dataframe tbody tr th {\n",
       "        vertical-align: top;\n",
       "    }\n",
       "\n",
       "    .dataframe thead th {\n",
       "        text-align: right;\n",
       "    }\n",
       "</style>\n",
       "<table border=\"1\" class=\"dataframe\">\n",
       "  <thead>\n",
       "    <tr style=\"text-align: right;\">\n",
       "      <th></th>\n",
       "      <th>Date</th>\n",
       "      <th>Seconds</th>\n",
       "      <th>NumberPeople</th>\n",
       "      <th>Actitivity</th>\n",
       "      <th>Document</th>\n",
       "      <th>Category</th>\n",
       "      <th>Productivity</th>\n",
       "    </tr>\n",
       "  </thead>\n",
       "  <tbody>\n",
       "    <tr>\n",
       "      <th>356</th>\n",
       "      <td>2019-11-06T13:00:00</td>\n",
       "      <td>2</td>\n",
       "      <td>1</td>\n",
       "      <td>rescuetime.com</td>\n",
       "      <td>Sem título - Google Chrome</td>\n",
       "      <td>Intelligence</td>\n",
       "      <td>2</td>\n",
       "    </tr>\n",
       "    <tr>\n",
       "      <th>357</th>\n",
       "      <td>2019-11-06T13:00:00</td>\n",
       "      <td>1</td>\n",
       "      <td>1</td>\n",
       "      <td>trello.com</td>\n",
       "      <td>Prifina Product Prototyping | Trello</td>\n",
       "      <td>Project Management</td>\n",
       "      <td>2</td>\n",
       "    </tr>\n",
       "    <tr>\n",
       "      <th>358</th>\n",
       "      <td>2019-11-06T13:00:00</td>\n",
       "      <td>1</td>\n",
       "      <td>1</td>\n",
       "      <td>rescuetime.com</td>\n",
       "      <td>No Details</td>\n",
       "      <td>Intelligence</td>\n",
       "      <td>2</td>\n",
       "    </tr>\n",
       "    <tr>\n",
       "      <th>359</th>\n",
       "      <td>2019-11-06T13:00:00</td>\n",
       "      <td>1</td>\n",
       "      <td>1</td>\n",
       "      <td>github.com</td>\n",
       "      <td>No Details</td>\n",
       "      <td>General Software Development</td>\n",
       "      <td>2</td>\n",
       "    </tr>\n",
       "    <tr>\n",
       "      <th>360</th>\n",
       "      <td>2019-11-06T13:00:00</td>\n",
       "      <td>1</td>\n",
       "      <td>1</td>\n",
       "      <td>localhost:8888</td>\n",
       "      <td>rescuetime/</td>\n",
       "      <td>General Software Development</td>\n",
       "      <td>2</td>\n",
       "    </tr>\n",
       "  </tbody>\n",
       "</table>\n",
       "</div>"
      ],
      "text/plain": [
       "                    Date  Seconds  NumberPeople      Actitivity  \\\n",
       "356  2019-11-06T13:00:00        2             1  rescuetime.com   \n",
       "357  2019-11-06T13:00:00        1             1      trello.com   \n",
       "358  2019-11-06T13:00:00        1             1  rescuetime.com   \n",
       "359  2019-11-06T13:00:00        1             1      github.com   \n",
       "360  2019-11-06T13:00:00        1             1  localhost:8888   \n",
       "\n",
       "                                 Document                      Category  \\\n",
       "356            Sem título - Google Chrome                  Intelligence   \n",
       "357  Prifina Product Prototyping | Trello            Project Management   \n",
       "358                            No Details                  Intelligence   \n",
       "359                            No Details  General Software Development   \n",
       "360                           rescuetime/  General Software Development   \n",
       "\n",
       "     Productivity  \n",
       "356             2  \n",
       "357             2  \n",
       "358             2  \n",
       "359             2  \n",
       "360             2  "
      ]
     },
     "execution_count": 53,
     "metadata": {},
     "output_type": "execute_result"
    }
   ],
   "source": [
    "activities_hourly.tail()"
   ]
  },
  {
   "cell_type": "code",
   "execution_count": 54,
   "metadata": {},
   "outputs": [],
   "source": [
    "activities_hourly.to_csv('data/rescuetime-hourly-' + start_date + '-to-' + end_date + '.csv')"
   ]
  },
  {
   "cell_type": "markdown",
   "metadata": {},
   "source": [
    "## Collect Report of Activites By Minute"
   ]
  },
  {
   "cell_type": "code",
   "execution_count": 20,
   "metadata": {},
   "outputs": [],
   "source": [
    "activities_minute_log = rescuetime_get_activities(start_date, end_date, 'minute')"
   ]
  },
  {
   "cell_type": "code",
   "execution_count": 21,
   "metadata": {},
   "outputs": [],
   "source": [
    "activities_per_minute = pd.DataFrame.from_dict(activities_minute_log)"
   ]
  },
  {
   "cell_type": "code",
   "execution_count": 22,
   "metadata": {},
   "outputs": [],
   "source": [
    "# Date', u'Time Spent (seconds)', u'Number of People', u'Activity', u'Document', u'Category', u'Productivity'\n",
    "activities_per_minute.columns = ['Date', 'Seconds', 'NumberPeople', 'Actitivity', 'Document', 'Category', 'Productivity']"
   ]
  },
  {
   "cell_type": "code",
   "execution_count": 23,
   "metadata": {},
   "outputs": [
    {
     "data": {
      "text/html": [
       "<div>\n",
       "<style scoped>\n",
       "    .dataframe tbody tr th:only-of-type {\n",
       "        vertical-align: middle;\n",
       "    }\n",
       "\n",
       "    .dataframe tbody tr th {\n",
       "        vertical-align: top;\n",
       "    }\n",
       "\n",
       "    .dataframe thead th {\n",
       "        text-align: right;\n",
       "    }\n",
       "</style>\n",
       "<table border=\"1\" class=\"dataframe\">\n",
       "  <thead>\n",
       "    <tr style=\"text-align: right;\">\n",
       "      <th></th>\n",
       "      <th>Date</th>\n",
       "      <th>Seconds</th>\n",
       "      <th>NumberPeople</th>\n",
       "      <th>Actitivity</th>\n",
       "      <th>Document</th>\n",
       "      <th>Category</th>\n",
       "      <th>Productivity</th>\n",
       "    </tr>\n",
       "  </thead>\n",
       "  <tbody>\n",
       "    <tr>\n",
       "      <th>0</th>\n",
       "      <td>2019-11-05T14:55:00</td>\n",
       "      <td>29</td>\n",
       "      <td>1</td>\n",
       "      <td>rescuetime.com</td>\n",
       "      <td>RescueTime - Setting up your RescueTime applic...</td>\n",
       "      <td>Intelligence</td>\n",
       "      <td>2</td>\n",
       "    </tr>\n",
       "    <tr>\n",
       "      <th>1</th>\n",
       "      <td>2019-11-05T14:55:00</td>\n",
       "      <td>5</td>\n",
       "      <td>1</td>\n",
       "      <td>RescueTime</td>\n",
       "      <td>RescueTime</td>\n",
       "      <td>Intelligence</td>\n",
       "      <td>2</td>\n",
       "    </tr>\n",
       "    <tr>\n",
       "      <th>2</th>\n",
       "      <td>2019-11-05T14:55:00</td>\n",
       "      <td>4</td>\n",
       "      <td>1</td>\n",
       "      <td>rescuetime.com</td>\n",
       "      <td>RescueTime - Setting up your RescueTime applic...</td>\n",
       "      <td>Intelligence</td>\n",
       "      <td>2</td>\n",
       "    </tr>\n",
       "    <tr>\n",
       "      <th>3</th>\n",
       "      <td>2019-11-05T15:00:00</td>\n",
       "      <td>158</td>\n",
       "      <td>1</td>\n",
       "      <td>Google Documents</td>\n",
       "      <td>Time Management Research - Quantified Self - G...</td>\n",
       "      <td>Writing</td>\n",
       "      <td>2</td>\n",
       "    </tr>\n",
       "    <tr>\n",
       "      <th>4</th>\n",
       "      <td>2019-11-05T15:00:00</td>\n",
       "      <td>158</td>\n",
       "      <td>1</td>\n",
       "      <td>Google Documents</td>\n",
       "      <td>Time Management Research - Quantified Self - G...</td>\n",
       "      <td>Writing</td>\n",
       "      <td>2</td>\n",
       "    </tr>\n",
       "  </tbody>\n",
       "</table>\n",
       "</div>"
      ],
      "text/plain": [
       "                  Date  Seconds  NumberPeople        Actitivity  \\\n",
       "0  2019-11-05T14:55:00       29             1    rescuetime.com   \n",
       "1  2019-11-05T14:55:00        5             1        RescueTime   \n",
       "2  2019-11-05T14:55:00        4             1    rescuetime.com   \n",
       "3  2019-11-05T15:00:00      158             1  Google Documents   \n",
       "4  2019-11-05T15:00:00      158             1  Google Documents   \n",
       "\n",
       "                                            Document      Category  \\\n",
       "0  RescueTime - Setting up your RescueTime applic...  Intelligence   \n",
       "1                                         RescueTime  Intelligence   \n",
       "2  RescueTime - Setting up your RescueTime applic...  Intelligence   \n",
       "3  Time Management Research - Quantified Self - G...       Writing   \n",
       "4  Time Management Research - Quantified Self - G...       Writing   \n",
       "\n",
       "   Productivity  \n",
       "0             2  \n",
       "1             2  \n",
       "2             2  \n",
       "3             2  \n",
       "4             2  "
      ]
     },
     "execution_count": 23,
     "metadata": {},
     "output_type": "execute_result"
    }
   ],
   "source": [
    "activities_per_minute.head()"
   ]
  },
  {
   "cell_type": "code",
   "execution_count": 24,
   "metadata": {},
   "outputs": [
    {
     "name": "stdout",
     "output_type": "stream",
     "text": [
      "<class 'pandas.core.frame.DataFrame'>\n",
      "RangeIndex: 611 entries, 0 to 610\n",
      "Data columns (total 7 columns):\n",
      "Date            611 non-null object\n",
      "Seconds         611 non-null int64\n",
      "NumberPeople    611 non-null int64\n",
      "Actitivity      611 non-null object\n",
      "Document        611 non-null object\n",
      "Category        611 non-null object\n",
      "Productivity    611 non-null int64\n",
      "dtypes: int64(3), object(4)\n",
      "memory usage: 33.5+ KB\n"
     ]
    }
   ],
   "source": [
    "activities_per_minute.info()"
   ]
  },
  {
   "cell_type": "code",
   "execution_count": 25,
   "metadata": {},
   "outputs": [
    {
     "data": {
      "text/html": [
       "<div>\n",
       "<style scoped>\n",
       "    .dataframe tbody tr th:only-of-type {\n",
       "        vertical-align: middle;\n",
       "    }\n",
       "\n",
       "    .dataframe tbody tr th {\n",
       "        vertical-align: top;\n",
       "    }\n",
       "\n",
       "    .dataframe thead th {\n",
       "        text-align: right;\n",
       "    }\n",
       "</style>\n",
       "<table border=\"1\" class=\"dataframe\">\n",
       "  <thead>\n",
       "    <tr style=\"text-align: right;\">\n",
       "      <th></th>\n",
       "      <th>Seconds</th>\n",
       "      <th>NumberPeople</th>\n",
       "      <th>Productivity</th>\n",
       "    </tr>\n",
       "  </thead>\n",
       "  <tbody>\n",
       "    <tr>\n",
       "      <th>count</th>\n",
       "      <td>611.000000</td>\n",
       "      <td>611.0</td>\n",
       "      <td>611.000000</td>\n",
       "    </tr>\n",
       "    <tr>\n",
       "      <th>mean</th>\n",
       "      <td>41.710311</td>\n",
       "      <td>1.0</td>\n",
       "      <td>0.991817</td>\n",
       "    </tr>\n",
       "    <tr>\n",
       "      <th>std</th>\n",
       "      <td>77.145314</td>\n",
       "      <td>0.0</td>\n",
       "      <td>1.087152</td>\n",
       "    </tr>\n",
       "    <tr>\n",
       "      <th>min</th>\n",
       "      <td>1.000000</td>\n",
       "      <td>1.0</td>\n",
       "      <td>-2.000000</td>\n",
       "    </tr>\n",
       "    <tr>\n",
       "      <th>25%</th>\n",
       "      <td>2.000000</td>\n",
       "      <td>1.0</td>\n",
       "      <td>0.000000</td>\n",
       "    </tr>\n",
       "    <tr>\n",
       "      <th>50%</th>\n",
       "      <td>7.000000</td>\n",
       "      <td>1.0</td>\n",
       "      <td>1.000000</td>\n",
       "    </tr>\n",
       "    <tr>\n",
       "      <th>75%</th>\n",
       "      <td>40.000000</td>\n",
       "      <td>1.0</td>\n",
       "      <td>2.000000</td>\n",
       "    </tr>\n",
       "    <tr>\n",
       "      <th>max</th>\n",
       "      <td>515.000000</td>\n",
       "      <td>1.0</td>\n",
       "      <td>2.000000</td>\n",
       "    </tr>\n",
       "  </tbody>\n",
       "</table>\n",
       "</div>"
      ],
      "text/plain": [
       "          Seconds  NumberPeople  Productivity\n",
       "count  611.000000         611.0    611.000000\n",
       "mean    41.710311           1.0      0.991817\n",
       "std     77.145314           0.0      1.087152\n",
       "min      1.000000           1.0     -2.000000\n",
       "25%      2.000000           1.0      0.000000\n",
       "50%      7.000000           1.0      1.000000\n",
       "75%     40.000000           1.0      2.000000\n",
       "max    515.000000           1.0      2.000000"
      ]
     },
     "execution_count": 25,
     "metadata": {},
     "output_type": "execute_result"
    }
   ],
   "source": [
    "activities_per_minute.describe()"
   ]
  },
  {
   "cell_type": "code",
   "execution_count": 26,
   "metadata": {},
   "outputs": [],
   "source": [
    "activities_per_minute.to_csv('data/rescuetime-by-minute' + start_date + '-to-' + end_date + '.csv')"
   ]
  },
  {
   "cell_type": "markdown",
   "metadata": {},
   "source": [
    "-----"
   ]
  },
  {
   "cell_type": "markdown",
   "metadata": {},
   "source": [
    "## Simple Analysis (Using Exported Logs)"
   ]
  },
  {
   "cell_type": "code",
   "execution_count": 27,
   "metadata": {},
   "outputs": [],
   "source": [
    "import glob\n",
    "import os"
   ]
  },
  {
   "cell_type": "code",
   "execution_count": 28,
   "metadata": {},
   "outputs": [],
   "source": [
    "# import hourly data exports and create a single data frame\n",
    "path = 'data/'\n",
    "allFiles = glob.glob(path + \"/rescuetime-hourly*.csv\")\n",
    "timelogs = pd.DataFrame()\n",
    "list_ = []\n",
    "for file_ in allFiles:\n",
    "    df = pd.read_csv(file_,index_col=None, header=0)\n",
    "    list_.append(df)\n",
    "activities = pd.concat(list_)"
   ]
  },
  {
   "cell_type": "code",
   "execution_count": 29,
   "metadata": {},
   "outputs": [
    {
     "data": {
      "text/plain": [
       "361"
      ]
     },
     "execution_count": 29,
     "metadata": {},
     "output_type": "execute_result"
    }
   ],
   "source": [
    "len(activities) # 312477"
   ]
  },
  {
   "cell_type": "code",
   "execution_count": 30,
   "metadata": {},
   "outputs": [
    {
     "data": {
      "text/plain": [
       "7.079166666666667"
      ]
     },
     "execution_count": 30,
     "metadata": {},
     "output_type": "execute_result"
    }
   ],
   "source": [
    "# total hours\n",
    "activities.Seconds.sum() / 60 / 60"
   ]
  },
  {
   "cell_type": "code",
   "execution_count": 31,
   "metadata": {},
   "outputs": [
    {
     "data": {
      "text/plain": [
       "0.29496527777777776"
      ]
     },
     "execution_count": 31,
     "metadata": {},
     "output_type": "execute_result"
    }
   ],
   "source": [
    "# total days\n",
    "activities.Seconds.sum() / 60 / 60 / 24"
   ]
  },
  {
   "cell_type": "code",
   "execution_count": 32,
   "metadata": {},
   "outputs": [
    {
     "data": {
      "text/html": [
       "<div>\n",
       "<style scoped>\n",
       "    .dataframe tbody tr th:only-of-type {\n",
       "        vertical-align: middle;\n",
       "    }\n",
       "\n",
       "    .dataframe tbody tr th {\n",
       "        vertical-align: top;\n",
       "    }\n",
       "\n",
       "    .dataframe thead th {\n",
       "        text-align: right;\n",
       "    }\n",
       "</style>\n",
       "<table border=\"1\" class=\"dataframe\">\n",
       "  <thead>\n",
       "    <tr style=\"text-align: right;\">\n",
       "      <th></th>\n",
       "      <th>Unnamed: 0</th>\n",
       "      <th>Date</th>\n",
       "      <th>Seconds</th>\n",
       "      <th>NumberPeople</th>\n",
       "      <th>Actitivity</th>\n",
       "      <th>Document</th>\n",
       "      <th>Category</th>\n",
       "      <th>Productivity</th>\n",
       "    </tr>\n",
       "  </thead>\n",
       "  <tbody>\n",
       "    <tr>\n",
       "      <th>0</th>\n",
       "      <td>0</td>\n",
       "      <td>2019-11-05T14:00:00</td>\n",
       "      <td>29</td>\n",
       "      <td>1</td>\n",
       "      <td>rescuetime.com</td>\n",
       "      <td>RescueTime - Setting up your RescueTime applic...</td>\n",
       "      <td>Intelligence</td>\n",
       "      <td>2</td>\n",
       "    </tr>\n",
       "    <tr>\n",
       "      <th>1</th>\n",
       "      <td>1</td>\n",
       "      <td>2019-11-05T14:00:00</td>\n",
       "      <td>5</td>\n",
       "      <td>1</td>\n",
       "      <td>RescueTime</td>\n",
       "      <td>RescueTime</td>\n",
       "      <td>Intelligence</td>\n",
       "      <td>2</td>\n",
       "    </tr>\n",
       "    <tr>\n",
       "      <th>2</th>\n",
       "      <td>2</td>\n",
       "      <td>2019-11-05T14:00:00</td>\n",
       "      <td>4</td>\n",
       "      <td>1</td>\n",
       "      <td>rescuetime.com</td>\n",
       "      <td>RescueTime - Setting up your RescueTime applic...</td>\n",
       "      <td>Intelligence</td>\n",
       "      <td>2</td>\n",
       "    </tr>\n",
       "    <tr>\n",
       "      <th>3</th>\n",
       "      <td>3</td>\n",
       "      <td>2019-11-05T15:00:00</td>\n",
       "      <td>2075</td>\n",
       "      <td>1</td>\n",
       "      <td>markwk.com</td>\n",
       "      <td>No Details</td>\n",
       "      <td>Uncategorized</td>\n",
       "      <td>0</td>\n",
       "    </tr>\n",
       "    <tr>\n",
       "      <th>4</th>\n",
       "      <td>4</td>\n",
       "      <td>2019-11-05T15:00:00</td>\n",
       "      <td>700</td>\n",
       "      <td>1</td>\n",
       "      <td>trello.com</td>\n",
       "      <td>Time Management Dashboard Prototype on Prifina...</td>\n",
       "      <td>Project Management</td>\n",
       "      <td>2</td>\n",
       "    </tr>\n",
       "  </tbody>\n",
       "</table>\n",
       "</div>"
      ],
      "text/plain": [
       "   Unnamed: 0                 Date  Seconds  NumberPeople      Actitivity  \\\n",
       "0           0  2019-11-05T14:00:00       29             1  rescuetime.com   \n",
       "1           1  2019-11-05T14:00:00        5             1      RescueTime   \n",
       "2           2  2019-11-05T14:00:00        4             1  rescuetime.com   \n",
       "3           3  2019-11-05T15:00:00     2075             1      markwk.com   \n",
       "4           4  2019-11-05T15:00:00      700             1      trello.com   \n",
       "\n",
       "                                            Document            Category  \\\n",
       "0  RescueTime - Setting up your RescueTime applic...        Intelligence   \n",
       "1                                         RescueTime        Intelligence   \n",
       "2  RescueTime - Setting up your RescueTime applic...        Intelligence   \n",
       "3                                         No Details       Uncategorized   \n",
       "4  Time Management Dashboard Prototype on Prifina...  Project Management   \n",
       "\n",
       "   Productivity  \n",
       "0             2  \n",
       "1             2  \n",
       "2             2  \n",
       "3             0  \n",
       "4             2  "
      ]
     },
     "execution_count": 32,
     "metadata": {},
     "output_type": "execute_result"
    }
   ],
   "source": [
    "activities.head()"
   ]
  },
  {
   "cell_type": "code",
   "execution_count": 33,
   "metadata": {},
   "outputs": [
    {
     "name": "stdout",
     "output_type": "stream",
     "text": [
      "<class 'pandas.core.frame.DataFrame'>\n",
      "RangeIndex: 361 entries, 0 to 360\n",
      "Data columns (total 8 columns):\n",
      "Unnamed: 0      361 non-null int64\n",
      "Date            361 non-null object\n",
      "Seconds         361 non-null int64\n",
      "NumberPeople    361 non-null int64\n",
      "Actitivity      361 non-null object\n",
      "Document        361 non-null object\n",
      "Category        361 non-null object\n",
      "Productivity    361 non-null int64\n",
      "dtypes: int64(4), object(4)\n",
      "memory usage: 22.6+ KB\n"
     ]
    }
   ],
   "source": [
    "activities.info()"
   ]
  },
  {
   "cell_type": "code",
   "execution_count": 70,
   "metadata": {},
   "outputs": [
    {
     "data": {
      "text/html": [
       "<div>\n",
       "<style scoped>\n",
       "    .dataframe tbody tr th:only-of-type {\n",
       "        vertical-align: middle;\n",
       "    }\n",
       "\n",
       "    .dataframe tbody tr th {\n",
       "        vertical-align: top;\n",
       "    }\n",
       "\n",
       "    .dataframe thead th {\n",
       "        text-align: right;\n",
       "    }\n",
       "</style>\n",
       "<table border=\"1\" class=\"dataframe\">\n",
       "  <thead>\n",
       "    <tr style=\"text-align: right;\">\n",
       "      <th></th>\n",
       "      <th>Unnamed: 0</th>\n",
       "      <th>Seconds</th>\n",
       "      <th>NumberPeople</th>\n",
       "      <th>Productivity</th>\n",
       "    </tr>\n",
       "  </thead>\n",
       "  <tbody>\n",
       "    <tr>\n",
       "      <th>count</th>\n",
       "      <td>361.000000</td>\n",
       "      <td>361.000000</td>\n",
       "      <td>361.0</td>\n",
       "      <td>361.000000</td>\n",
       "    </tr>\n",
       "    <tr>\n",
       "      <th>mean</th>\n",
       "      <td>180.000000</td>\n",
       "      <td>70.595568</td>\n",
       "      <td>1.0</td>\n",
       "      <td>0.975069</td>\n",
       "    </tr>\n",
       "    <tr>\n",
       "      <th>std</th>\n",
       "      <td>104.355961</td>\n",
       "      <td>209.840793</td>\n",
       "      <td>0.0</td>\n",
       "      <td>1.088801</td>\n",
       "    </tr>\n",
       "    <tr>\n",
       "      <th>min</th>\n",
       "      <td>0.000000</td>\n",
       "      <td>1.000000</td>\n",
       "      <td>1.0</td>\n",
       "      <td>-2.000000</td>\n",
       "    </tr>\n",
       "    <tr>\n",
       "      <th>25%</th>\n",
       "      <td>90.000000</td>\n",
       "      <td>3.000000</td>\n",
       "      <td>1.0</td>\n",
       "      <td>0.000000</td>\n",
       "    </tr>\n",
       "    <tr>\n",
       "      <th>50%</th>\n",
       "      <td>180.000000</td>\n",
       "      <td>8.000000</td>\n",
       "      <td>1.0</td>\n",
       "      <td>1.000000</td>\n",
       "    </tr>\n",
       "    <tr>\n",
       "      <th>75%</th>\n",
       "      <td>270.000000</td>\n",
       "      <td>34.000000</td>\n",
       "      <td>1.0</td>\n",
       "      <td>2.000000</td>\n",
       "    </tr>\n",
       "    <tr>\n",
       "      <th>max</th>\n",
       "      <td>360.000000</td>\n",
       "      <td>2075.000000</td>\n",
       "      <td>1.0</td>\n",
       "      <td>2.000000</td>\n",
       "    </tr>\n",
       "  </tbody>\n",
       "</table>\n",
       "</div>"
      ],
      "text/plain": [
       "       Unnamed: 0      Seconds  NumberPeople  Productivity\n",
       "count  361.000000   361.000000         361.0    361.000000\n",
       "mean   180.000000    70.595568           1.0      0.975069\n",
       "std    104.355961   209.840793           0.0      1.088801\n",
       "min      0.000000     1.000000           1.0     -2.000000\n",
       "25%     90.000000     3.000000           1.0      0.000000\n",
       "50%    180.000000     8.000000           1.0      1.000000\n",
       "75%    270.000000    34.000000           1.0      2.000000\n",
       "max    360.000000  2075.000000           1.0      2.000000"
      ]
     },
     "execution_count": 70,
     "metadata": {},
     "output_type": "execute_result"
    }
   ],
   "source": [
    "activities.describe()"
   ]
  },
  {
   "cell_type": "code",
   "execution_count": 73,
   "metadata": {},
   "outputs": [],
   "source": [
    "activities.to_csv('data/rescuetime-full-data-export.csv',index=False)"
   ]
  },
  {
   "cell_type": "code",
   "execution_count": 323,
   "metadata": {
    "collapsed": true
   },
   "outputs": [],
   "source": [
    "# create columns for year, month, day, and dow"
   ]
  },
  {
   "cell_type": "code",
   "execution_count": 36,
   "metadata": {},
   "outputs": [],
   "source": [
    "# pivot table \n",
    "# activities.pivot(index='date', columns='Category', values='seconds')\n",
    "# temp.pivot(columns='Category', values='Seconds')"
   ]
  },
  {
   "cell_type": "code",
   "execution_count": null,
   "metadata": {},
   "outputs": [],
   "source": []
  },
  {
   "cell_type": "code",
   "execution_count": null,
   "metadata": {
    "collapsed": true
   },
   "outputs": [],
   "source": []
  }
 ],
 "metadata": {
  "kernelspec": {
   "display_name": "Python 3",
   "language": "python",
   "name": "python3"
  },
  "language_info": {
   "codemirror_mode": {
    "name": "ipython",
    "version": 3
   },
   "file_extension": ".py",
   "mimetype": "text/x-python",
   "name": "python",
   "nbconvert_exporter": "python",
   "pygments_lexer": "ipython3",
   "version": "3.7.2rc1"
  }
 },
 "nbformat": 4,
 "nbformat_minor": 2
}
